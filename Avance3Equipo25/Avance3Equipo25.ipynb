{
  "nbformat": 4,
  "nbformat_minor": 0,
  "metadata": {
    "colab": {
      "provenance": [],
      "include_colab_link": true
    },
    "kernelspec": {
      "name": "python3",
      "display_name": "Python 3"
    },
    "language_info": {
      "name": "python"
    }
  },
  "cells": [
    {
      "cell_type": "markdown",
      "metadata": {
        "id": "view-in-github",
        "colab_type": "text"
      },
      "source": [
        "<a href=\"https://colab.research.google.com/github/Nathalia-Prada/proyecto-integrador-equipo25/blob/main/Avance3Equipo25/Avance3Equipo25.ipynb\" target=\"_parent\"><img src=\"https://colab.research.google.com/assets/colab-badge.svg\" alt=\"Open In Colab\"/></a>"
      ]
    },
    {
      "cell_type": "markdown",
      "source": [
        "# **Avance 3. Baseline**\n",
        "\n",
        "Objetivos:\n",
        "\n",
        "- 3.1 Establecer las medidas de calidad del modelo de aprendizaje automático.\n",
        "\n",
        "- 3.2 Proporcionar un marco de referencia para evaluar y mejorar modelos más avanzados.\n",
        "\n",
        "\n",
        "\n",
        "###**Equipo 25**\n",
        "\n",
        "\n",
        "### Estudiantes\n",
        "\n",
        "\n",
        "* A01793899 - Andrés Julián López Hurtado\n",
        "* A01793999 - Nathalia Milena Prada Hernández\n",
        "* A01794404 - Victor Alejandro Regueira Romero\n",
        "\n",
        "Fecha: 6 de octubre de 2024"
      ],
      "metadata": {
        "id": "mBv9LJaf1ums"
      }
    },
    {
      "cell_type": "markdown",
      "source": [
        "# Instrucciones"
      ],
      "metadata": {
        "id": "FyiXV4_q1bxJ"
      }
    },
    {
      "cell_type": "markdown",
      "source": [
        "Este avance consiste en construir un modelo de referencia (individual, NO ensambles) que permita evaluar la viabilidad del problema. Si el baseline tiene un rendimiento similar al azar, podría indicar que el problema es intrínsecamente difícil o que los datos no contienen suficiente información para predecir el objetivo. De lo contrario, el baseline podría como una solución mínima aceptable cuando se trabaja en escenarios donde incluso un modelo simple puede proporcionar valor.\n",
        "\n",
        "Un baseline facilita también la gestión de expectativas, tanto dentro del equipo como con los stakeholders, pues proporciona una comprensión inicial de lo que se puede lograr con métodos simples antes de invertir tiempo y recursos en enfoques más complejos.\n",
        "\n",
        "Las siguientes son algunas de las preguntas que deberán abordar durante esta fase:\n",
        "\n",
        "* ¿Qué algoritmo (individual, NO ensambles) se puede utilizar como baseline para predecir las variables objetivo?\n",
        "* ¿Se puede determinar la importancia de las características para el modelo generado? Recuerden que incluir características irrelevantes puede afectar negativamente el rendimiento del modelo y aumentar la complejidad sin beneficios sustanciales.\n",
        "* ¿El modelo está sub/sobreajustando los datos de entrenamiento?\n",
        "* ¿Cuál es la métrica adecuada para este problema de negocio?\n",
        "* ¿Cuál debería ser el desempeño mínimo a obtener?"
      ],
      "metadata": {
        "id": "HBhUtfbh1iOi"
      }
    },
    {
      "cell_type": "markdown",
      "source": [
        "# Importar Drive"
      ],
      "metadata": {
        "id": "efPQHOt_QbFk"
      }
    },
    {
      "cell_type": "code",
      "source": [
        "from google.colab import drive\n",
        "drive.mount('/content/drive')"
      ],
      "metadata": {
        "colab": {
          "base_uri": "https://localhost:8080/"
        },
        "id": "vtiY61NoQiFy",
        "outputId": "afb5742e-9f76-468b-fec5-25348257ffc3"
      },
      "execution_count": null,
      "outputs": [
        {
          "output_type": "stream",
          "name": "stdout",
          "text": [
            "Mounted at /content/drive\n"
          ]
        }
      ]
    },
    {
      "cell_type": "markdown",
      "source": [
        "# Librerías"
      ],
      "metadata": {
        "id": "AigHMm1WSkBG"
      }
    },
    {
      "cell_type": "code",
      "source": [
        "import pandas as pd\n",
        "import matplotlib.pyplot as plt\n",
        "import seaborn as sns\n",
        "import numpy as np"
      ],
      "metadata": {
        "id": "5jiO1cjBSlcP"
      },
      "execution_count": null,
      "outputs": []
    },
    {
      "cell_type": "markdown",
      "source": [
        "# Rutas de archivos y carga de la base"
      ],
      "metadata": {
        "id": "BEzln5FiQ23T"
      }
    },
    {
      "cell_type": "code",
      "source": [
        "file_tabla_unida = '/content/drive/MyDrive/TECForza/df_union2.csv'"
      ],
      "metadata": {
        "id": "53B6FXRcRJ-l"
      },
      "execution_count": null,
      "outputs": []
    },
    {
      "cell_type": "code",
      "source": [
        "df_tabla_unida = pd.read_csv(file_tabla_unida)\n",
        "df_tabla_unida.head()"
      ],
      "metadata": {
        "id": "SC_DgPn7EmQJ",
        "colab": {
          "base_uri": "https://localhost:8080/",
          "height": 342
        },
        "outputId": "a5e1f02d-2690-4c2e-a585-c7f11c79fdcd"
      },
      "execution_count": null,
      "outputs": [
        {
          "output_type": "execute_result",
          "data": {
            "text/plain": [
              "   name        date  total_distance_used_sum  total_fuel_used_sum  \\\n",
              "0   986  2024-07-01               115.575006            15.321976   \n",
              "1  1038  2024-07-01               167.770170            25.096340   \n",
              "2   502  2024-07-02              1025.262150            68.948892   \n",
              "3   532  2024-07-02              1103.554896            75.817364   \n",
              "4   880  2024-07-02               857.491980            64.193796   \n",
              "\n",
              "   consumption  performance    distance idlingDuration  idlingPercent  \\\n",
              "0     7.543088     0.132572   30.063228       08:12:02           87.0   \n",
              "1     6.685045     0.149588   72.647624       06:53:43           62.0   \n",
              "2     8.653096     0.067250  912.121800       11:00:31           46.0   \n",
              "3    14.555437     0.068703  554.235964       01:34:01           14.0   \n",
              "4    13.357864     0.074862  429.840038       20:46:51           73.0   \n",
              "\n",
              "   idlingDuration_hours  ...  ExcessiveSpeedingCount  \\\n",
              "0                  8.20  ...                   159.0   \n",
              "1                  6.90  ...                    19.0   \n",
              "2                 11.01  ...                   105.5   \n",
              "3                  1.57  ...                     3.5   \n",
              "4                 20.78  ...                   402.0   \n",
              "\n",
              "   ExcessiveSpeedingDistance  HardAccelerationCount  HardAccelerationDistance  \\\n",
              "0                  50.848373                  133.0                  0.057267   \n",
              "1                   2.382248                   17.0                  0.002865   \n",
              "2                  38.452164                   48.0                  0.020623   \n",
              "3                   0.055369                   77.5                  0.065764   \n",
              "4                 123.554245                   59.0                  0.020675   \n",
              "\n",
              "   HarshBrakingCount  HarshBrakingDistance  HarshCorneringDuration  \\\n",
              "0                1.0              0.000096                     0.0   \n",
              "1                0.0              0.000000                     0.0   \n",
              "2                0.5              0.000332                     0.0   \n",
              "3                0.0              0.000000                     0.0   \n",
              "4                0.0              0.000000                     0.0   \n",
              "\n",
              "   HarshCorneringCount  HarshCorneringDistance   MaxSpeed  \n",
              "0                 43.0                0.006195  83.885109  \n",
              "1                 28.0                0.002594  76.428658  \n",
              "2                 39.5                0.009367  42.874611  \n",
              "3                 18.5                0.007460  38.835701  \n",
              "4                 37.0                0.020335  83.885109  \n",
              "\n",
              "[5 rows x 42 columns]"
            ],
            "text/html": [
              "\n",
              "  <div id=\"df-a5e2efcf-cfc9-412d-9b28-56210c39c6cb\" class=\"colab-df-container\">\n",
              "    <div>\n",
              "<style scoped>\n",
              "    .dataframe tbody tr th:only-of-type {\n",
              "        vertical-align: middle;\n",
              "    }\n",
              "\n",
              "    .dataframe tbody tr th {\n",
              "        vertical-align: top;\n",
              "    }\n",
              "\n",
              "    .dataframe thead th {\n",
              "        text-align: right;\n",
              "    }\n",
              "</style>\n",
              "<table border=\"1\" class=\"dataframe\">\n",
              "  <thead>\n",
              "    <tr style=\"text-align: right;\">\n",
              "      <th></th>\n",
              "      <th>name</th>\n",
              "      <th>date</th>\n",
              "      <th>total_distance_used_sum</th>\n",
              "      <th>total_fuel_used_sum</th>\n",
              "      <th>consumption</th>\n",
              "      <th>performance</th>\n",
              "      <th>distance</th>\n",
              "      <th>idlingDuration</th>\n",
              "      <th>idlingPercent</th>\n",
              "      <th>idlingDuration_hours</th>\n",
              "      <th>...</th>\n",
              "      <th>ExcessiveSpeedingCount</th>\n",
              "      <th>ExcessiveSpeedingDistance</th>\n",
              "      <th>HardAccelerationCount</th>\n",
              "      <th>HardAccelerationDistance</th>\n",
              "      <th>HarshBrakingCount</th>\n",
              "      <th>HarshBrakingDistance</th>\n",
              "      <th>HarshCorneringDuration</th>\n",
              "      <th>HarshCorneringCount</th>\n",
              "      <th>HarshCorneringDistance</th>\n",
              "      <th>MaxSpeed</th>\n",
              "    </tr>\n",
              "  </thead>\n",
              "  <tbody>\n",
              "    <tr>\n",
              "      <th>0</th>\n",
              "      <td>986</td>\n",
              "      <td>2024-07-01</td>\n",
              "      <td>115.575006</td>\n",
              "      <td>15.321976</td>\n",
              "      <td>7.543088</td>\n",
              "      <td>0.132572</td>\n",
              "      <td>30.063228</td>\n",
              "      <td>08:12:02</td>\n",
              "      <td>87.0</td>\n",
              "      <td>8.20</td>\n",
              "      <td>...</td>\n",
              "      <td>159.0</td>\n",
              "      <td>50.848373</td>\n",
              "      <td>133.0</td>\n",
              "      <td>0.057267</td>\n",
              "      <td>1.0</td>\n",
              "      <td>0.000096</td>\n",
              "      <td>0.0</td>\n",
              "      <td>43.0</td>\n",
              "      <td>0.006195</td>\n",
              "      <td>83.885109</td>\n",
              "    </tr>\n",
              "    <tr>\n",
              "      <th>1</th>\n",
              "      <td>1038</td>\n",
              "      <td>2024-07-01</td>\n",
              "      <td>167.770170</td>\n",
              "      <td>25.096340</td>\n",
              "      <td>6.685045</td>\n",
              "      <td>0.149588</td>\n",
              "      <td>72.647624</td>\n",
              "      <td>06:53:43</td>\n",
              "      <td>62.0</td>\n",
              "      <td>6.90</td>\n",
              "      <td>...</td>\n",
              "      <td>19.0</td>\n",
              "      <td>2.382248</td>\n",
              "      <td>17.0</td>\n",
              "      <td>0.002865</td>\n",
              "      <td>0.0</td>\n",
              "      <td>0.000000</td>\n",
              "      <td>0.0</td>\n",
              "      <td>28.0</td>\n",
              "      <td>0.002594</td>\n",
              "      <td>76.428658</td>\n",
              "    </tr>\n",
              "    <tr>\n",
              "      <th>2</th>\n",
              "      <td>502</td>\n",
              "      <td>2024-07-02</td>\n",
              "      <td>1025.262150</td>\n",
              "      <td>68.948892</td>\n",
              "      <td>8.653096</td>\n",
              "      <td>0.067250</td>\n",
              "      <td>912.121800</td>\n",
              "      <td>11:00:31</td>\n",
              "      <td>46.0</td>\n",
              "      <td>11.01</td>\n",
              "      <td>...</td>\n",
              "      <td>105.5</td>\n",
              "      <td>38.452164</td>\n",
              "      <td>48.0</td>\n",
              "      <td>0.020623</td>\n",
              "      <td>0.5</td>\n",
              "      <td>0.000332</td>\n",
              "      <td>0.0</td>\n",
              "      <td>39.5</td>\n",
              "      <td>0.009367</td>\n",
              "      <td>42.874611</td>\n",
              "    </tr>\n",
              "    <tr>\n",
              "      <th>3</th>\n",
              "      <td>532</td>\n",
              "      <td>2024-07-02</td>\n",
              "      <td>1103.554896</td>\n",
              "      <td>75.817364</td>\n",
              "      <td>14.555437</td>\n",
              "      <td>0.068703</td>\n",
              "      <td>554.235964</td>\n",
              "      <td>01:34:01</td>\n",
              "      <td>14.0</td>\n",
              "      <td>1.57</td>\n",
              "      <td>...</td>\n",
              "      <td>3.5</td>\n",
              "      <td>0.055369</td>\n",
              "      <td>77.5</td>\n",
              "      <td>0.065764</td>\n",
              "      <td>0.0</td>\n",
              "      <td>0.000000</td>\n",
              "      <td>0.0</td>\n",
              "      <td>18.5</td>\n",
              "      <td>0.007460</td>\n",
              "      <td>38.835701</td>\n",
              "    </tr>\n",
              "    <tr>\n",
              "      <th>4</th>\n",
              "      <td>880</td>\n",
              "      <td>2024-07-02</td>\n",
              "      <td>857.491980</td>\n",
              "      <td>64.193796</td>\n",
              "      <td>13.357864</td>\n",
              "      <td>0.074862</td>\n",
              "      <td>429.840038</td>\n",
              "      <td>20:46:51</td>\n",
              "      <td>73.0</td>\n",
              "      <td>20.78</td>\n",
              "      <td>...</td>\n",
              "      <td>402.0</td>\n",
              "      <td>123.554245</td>\n",
              "      <td>59.0</td>\n",
              "      <td>0.020675</td>\n",
              "      <td>0.0</td>\n",
              "      <td>0.000000</td>\n",
              "      <td>0.0</td>\n",
              "      <td>37.0</td>\n",
              "      <td>0.020335</td>\n",
              "      <td>83.885109</td>\n",
              "    </tr>\n",
              "  </tbody>\n",
              "</table>\n",
              "<p>5 rows × 42 columns</p>\n",
              "</div>\n",
              "    <div class=\"colab-df-buttons\">\n",
              "\n",
              "  <div class=\"colab-df-container\">\n",
              "    <button class=\"colab-df-convert\" onclick=\"convertToInteractive('df-a5e2efcf-cfc9-412d-9b28-56210c39c6cb')\"\n",
              "            title=\"Convert this dataframe to an interactive table.\"\n",
              "            style=\"display:none;\">\n",
              "\n",
              "  <svg xmlns=\"http://www.w3.org/2000/svg\" height=\"24px\" viewBox=\"0 -960 960 960\">\n",
              "    <path d=\"M120-120v-720h720v720H120Zm60-500h600v-160H180v160Zm220 220h160v-160H400v160Zm0 220h160v-160H400v160ZM180-400h160v-160H180v160Zm440 0h160v-160H620v160ZM180-180h160v-160H180v160Zm440 0h160v-160H620v160Z\"/>\n",
              "  </svg>\n",
              "    </button>\n",
              "\n",
              "  <style>\n",
              "    .colab-df-container {\n",
              "      display:flex;\n",
              "      gap: 12px;\n",
              "    }\n",
              "\n",
              "    .colab-df-convert {\n",
              "      background-color: #E8F0FE;\n",
              "      border: none;\n",
              "      border-radius: 50%;\n",
              "      cursor: pointer;\n",
              "      display: none;\n",
              "      fill: #1967D2;\n",
              "      height: 32px;\n",
              "      padding: 0 0 0 0;\n",
              "      width: 32px;\n",
              "    }\n",
              "\n",
              "    .colab-df-convert:hover {\n",
              "      background-color: #E2EBFA;\n",
              "      box-shadow: 0px 1px 2px rgba(60, 64, 67, 0.3), 0px 1px 3px 1px rgba(60, 64, 67, 0.15);\n",
              "      fill: #174EA6;\n",
              "    }\n",
              "\n",
              "    .colab-df-buttons div {\n",
              "      margin-bottom: 4px;\n",
              "    }\n",
              "\n",
              "    [theme=dark] .colab-df-convert {\n",
              "      background-color: #3B4455;\n",
              "      fill: #D2E3FC;\n",
              "    }\n",
              "\n",
              "    [theme=dark] .colab-df-convert:hover {\n",
              "      background-color: #434B5C;\n",
              "      box-shadow: 0px 1px 3px 1px rgba(0, 0, 0, 0.15);\n",
              "      filter: drop-shadow(0px 1px 2px rgba(0, 0, 0, 0.3));\n",
              "      fill: #FFFFFF;\n",
              "    }\n",
              "  </style>\n",
              "\n",
              "    <script>\n",
              "      const buttonEl =\n",
              "        document.querySelector('#df-a5e2efcf-cfc9-412d-9b28-56210c39c6cb button.colab-df-convert');\n",
              "      buttonEl.style.display =\n",
              "        google.colab.kernel.accessAllowed ? 'block' : 'none';\n",
              "\n",
              "      async function convertToInteractive(key) {\n",
              "        const element = document.querySelector('#df-a5e2efcf-cfc9-412d-9b28-56210c39c6cb');\n",
              "        const dataTable =\n",
              "          await google.colab.kernel.invokeFunction('convertToInteractive',\n",
              "                                                    [key], {});\n",
              "        if (!dataTable) return;\n",
              "\n",
              "        const docLinkHtml = 'Like what you see? Visit the ' +\n",
              "          '<a target=\"_blank\" href=https://colab.research.google.com/notebooks/data_table.ipynb>data table notebook</a>'\n",
              "          + ' to learn more about interactive tables.';\n",
              "        element.innerHTML = '';\n",
              "        dataTable['output_type'] = 'display_data';\n",
              "        await google.colab.output.renderOutput(dataTable, element);\n",
              "        const docLink = document.createElement('div');\n",
              "        docLink.innerHTML = docLinkHtml;\n",
              "        element.appendChild(docLink);\n",
              "      }\n",
              "    </script>\n",
              "  </div>\n",
              "\n",
              "\n",
              "<div id=\"df-dded9719-85b3-40dc-8196-0f739ea211cc\">\n",
              "  <button class=\"colab-df-quickchart\" onclick=\"quickchart('df-dded9719-85b3-40dc-8196-0f739ea211cc')\"\n",
              "            title=\"Suggest charts\"\n",
              "            style=\"display:none;\">\n",
              "\n",
              "<svg xmlns=\"http://www.w3.org/2000/svg\" height=\"24px\"viewBox=\"0 0 24 24\"\n",
              "     width=\"24px\">\n",
              "    <g>\n",
              "        <path d=\"M19 3H5c-1.1 0-2 .9-2 2v14c0 1.1.9 2 2 2h14c1.1 0 2-.9 2-2V5c0-1.1-.9-2-2-2zM9 17H7v-7h2v7zm4 0h-2V7h2v10zm4 0h-2v-4h2v4z\"/>\n",
              "    </g>\n",
              "</svg>\n",
              "  </button>\n",
              "\n",
              "<style>\n",
              "  .colab-df-quickchart {\n",
              "      --bg-color: #E8F0FE;\n",
              "      --fill-color: #1967D2;\n",
              "      --hover-bg-color: #E2EBFA;\n",
              "      --hover-fill-color: #174EA6;\n",
              "      --disabled-fill-color: #AAA;\n",
              "      --disabled-bg-color: #DDD;\n",
              "  }\n",
              "\n",
              "  [theme=dark] .colab-df-quickchart {\n",
              "      --bg-color: #3B4455;\n",
              "      --fill-color: #D2E3FC;\n",
              "      --hover-bg-color: #434B5C;\n",
              "      --hover-fill-color: #FFFFFF;\n",
              "      --disabled-bg-color: #3B4455;\n",
              "      --disabled-fill-color: #666;\n",
              "  }\n",
              "\n",
              "  .colab-df-quickchart {\n",
              "    background-color: var(--bg-color);\n",
              "    border: none;\n",
              "    border-radius: 50%;\n",
              "    cursor: pointer;\n",
              "    display: none;\n",
              "    fill: var(--fill-color);\n",
              "    height: 32px;\n",
              "    padding: 0;\n",
              "    width: 32px;\n",
              "  }\n",
              "\n",
              "  .colab-df-quickchart:hover {\n",
              "    background-color: var(--hover-bg-color);\n",
              "    box-shadow: 0 1px 2px rgba(60, 64, 67, 0.3), 0 1px 3px 1px rgba(60, 64, 67, 0.15);\n",
              "    fill: var(--button-hover-fill-color);\n",
              "  }\n",
              "\n",
              "  .colab-df-quickchart-complete:disabled,\n",
              "  .colab-df-quickchart-complete:disabled:hover {\n",
              "    background-color: var(--disabled-bg-color);\n",
              "    fill: var(--disabled-fill-color);\n",
              "    box-shadow: none;\n",
              "  }\n",
              "\n",
              "  .colab-df-spinner {\n",
              "    border: 2px solid var(--fill-color);\n",
              "    border-color: transparent;\n",
              "    border-bottom-color: var(--fill-color);\n",
              "    animation:\n",
              "      spin 1s steps(1) infinite;\n",
              "  }\n",
              "\n",
              "  @keyframes spin {\n",
              "    0% {\n",
              "      border-color: transparent;\n",
              "      border-bottom-color: var(--fill-color);\n",
              "      border-left-color: var(--fill-color);\n",
              "    }\n",
              "    20% {\n",
              "      border-color: transparent;\n",
              "      border-left-color: var(--fill-color);\n",
              "      border-top-color: var(--fill-color);\n",
              "    }\n",
              "    30% {\n",
              "      border-color: transparent;\n",
              "      border-left-color: var(--fill-color);\n",
              "      border-top-color: var(--fill-color);\n",
              "      border-right-color: var(--fill-color);\n",
              "    }\n",
              "    40% {\n",
              "      border-color: transparent;\n",
              "      border-right-color: var(--fill-color);\n",
              "      border-top-color: var(--fill-color);\n",
              "    }\n",
              "    60% {\n",
              "      border-color: transparent;\n",
              "      border-right-color: var(--fill-color);\n",
              "    }\n",
              "    80% {\n",
              "      border-color: transparent;\n",
              "      border-right-color: var(--fill-color);\n",
              "      border-bottom-color: var(--fill-color);\n",
              "    }\n",
              "    90% {\n",
              "      border-color: transparent;\n",
              "      border-bottom-color: var(--fill-color);\n",
              "    }\n",
              "  }\n",
              "</style>\n",
              "\n",
              "  <script>\n",
              "    async function quickchart(key) {\n",
              "      const quickchartButtonEl =\n",
              "        document.querySelector('#' + key + ' button');\n",
              "      quickchartButtonEl.disabled = true;  // To prevent multiple clicks.\n",
              "      quickchartButtonEl.classList.add('colab-df-spinner');\n",
              "      try {\n",
              "        const charts = await google.colab.kernel.invokeFunction(\n",
              "            'suggestCharts', [key], {});\n",
              "      } catch (error) {\n",
              "        console.error('Error during call to suggestCharts:', error);\n",
              "      }\n",
              "      quickchartButtonEl.classList.remove('colab-df-spinner');\n",
              "      quickchartButtonEl.classList.add('colab-df-quickchart-complete');\n",
              "    }\n",
              "    (() => {\n",
              "      let quickchartButtonEl =\n",
              "        document.querySelector('#df-dded9719-85b3-40dc-8196-0f739ea211cc button');\n",
              "      quickchartButtonEl.style.display =\n",
              "        google.colab.kernel.accessAllowed ? 'block' : 'none';\n",
              "    })();\n",
              "  </script>\n",
              "</div>\n",
              "\n",
              "    </div>\n",
              "  </div>\n"
            ],
            "application/vnd.google.colaboratory.intrinsic+json": {
              "type": "dataframe",
              "variable_name": "df_tabla_unida"
            }
          },
          "metadata": {},
          "execution_count": 6
        }
      ]
    },
    {
      "cell_type": "markdown",
      "source": [
        "#Moldelo 1: Árbol de decisión (Julián)"
      ],
      "metadata": {
        "id": "VbpS_7qg1x9f"
      }
    },
    {
      "cell_type": "markdown",
      "source": [
        "Primero, voy a separar la base de datos en X y Y. Y será sólo la columna \"Consumption\" y X todo lo demás. Luego haré algunos arreglos a cada una de las tablas."
      ],
      "metadata": {
        "id": "eNyOnwhJ2Bhb"
      }
    },
    {
      "cell_type": "code",
      "source": [
        "# Separar en X e Y\n",
        "X = df_tabla_unida.drop(columns=['consumption'])  # X es todo menos la columna 'consumption'\n",
        "Y = df_tabla_unida['consumption']  # Y es solo la columna 'consumption'\n",
        "\n",
        "# Mostrar las primeras filas de X e Y\n",
        "#print(X.head())\n",
        "print(Y.head())"
      ],
      "metadata": {
        "colab": {
          "base_uri": "https://localhost:8080/"
        },
        "id": "xELxTzhK3ofE",
        "outputId": "11b5eb2d-1790-4077-ab41-400023467a9b"
      },
      "execution_count": null,
      "outputs": [
        {
          "output_type": "stream",
          "name": "stdout",
          "text": [
            "0     7.543088\n",
            "1     6.685045\n",
            "2     8.653096\n",
            "3    14.555437\n",
            "4    13.357864\n",
            "Name: consumption, dtype: float64\n"
          ]
        }
      ]
    },
    {
      "cell_type": "markdown",
      "source": [
        "##Ajustes de la variable de salida Y, consumtion"
      ],
      "metadata": {
        "id": "xRGXhq6J43gJ"
      }
    },
    {
      "cell_type": "code",
      "source": [
        "import matplotlib.pyplot as plt\n",
        "\n",
        "# Crear el histograma de Y (columna 'consumption')\n",
        "plt.figure(figsize=(4, 3))\n",
        "plt.hist(Y, bins=30, edgecolor='black', alpha=0.7)\n",
        "plt.title('Histograma de la columna \"consumption\"')\n",
        "plt.xlabel('Consumo')\n",
        "plt.ylabel('Frecuencia')\n",
        "plt.grid(True)\n",
        "plt.show()\n"
      ],
      "metadata": {
        "colab": {
          "base_uri": "https://localhost:8080/",
          "height": 333
        },
        "id": "uwaauEn_48uS",
        "outputId": "a1d131b3-ac09-4b2f-f3d5-d662a551bae0"
      },
      "execution_count": null,
      "outputs": [
        {
          "output_type": "display_data",
          "data": {
            "text/plain": [
              "<Figure size 400x300 with 1 Axes>"
            ],
            "image/png": "[encoded data removed]"
          },
          "metadata": {}
        }
      ]
    },
    {
      "cell_type": "markdown",
      "source": [
        "Voy a crear cuatro grupos dependiendo del valor de consumption: S, M, L y XL. Esto para poder crear una variable discreta para el árbol de decisión de tipo clasificación. Los valores umbrales se escogieron para que la cantidad de elementos en cada grupo sea aproximadamente igual y no se cree un problema de desbalaceo en los datos de Y. Los umblares son:\n",
        "\n",
        "* Grupo S: Rango (0.0392, 7.5566) - Cantidad: 10,759\n",
        "* Grupo M: Rango (7.5566, 8.5477) - Cantidad: 10,758\n",
        "* Grupo L: Rango (8.5477, 8.9567) - Cantidad: 10,759\n",
        "* Grupo XL: Rango (8.9567, 14.8651) - Cantidad: 10,757"
      ],
      "metadata": {
        "id": "5RWWR2wN6l6O"
      }
    },
    {
      "cell_type": "markdown",
      "source": [
        "El histograma lyuego de realizar esta clasificación quedaría así:\n"
      ],
      "metadata": {
        "id": "sl2W3ETb7BZL"
      }
    },
    {
      "cell_type": "code",
      "source": [
        "# Dividir los datos de Y en 4 grupos de igual tamaño\n",
        "quantiles = Y.quantile([0.25, 0.5, 0.75])\n",
        "\n",
        "# Definir los rangos para cada grupo\n",
        "rango_S = (Y.min(), quantiles[0.25])\n",
        "rango_M = (quantiles[0.25], quantiles[0.5])\n",
        "rango_L = (quantiles[0.5], quantiles[0.75])\n",
        "rango_XL = (quantiles[0.75], Y.max())\n",
        "\n",
        "# Contar cuántos datos quedan en cada grupo\n",
        "grupo_S = Y[(Y >= rango_S[0]) & (Y <= rango_S[1])].count()\n",
        "grupo_M = Y[(Y > rango_M[0]) & (Y <= rango_M[1])].count()\n",
        "grupo_L = Y[(Y > rango_L[0]) & (Y <= rango_L[1])].count()\n",
        "grupo_XL = Y[(Y > rango_XL[0]) & (Y <= rango_XL[1])].count()\n",
        "\n",
        "# Mostrar los resultados\n",
        "rangos = {\n",
        "    \"S\": {\"rango\": rango_S, \"cantidad\": grupo_S},\n",
        "    \"M\": {\"rango\": rango_M, \"cantidad\": grupo_M},\n",
        "    \"L\": {\"rango\": rango_L, \"cantidad\": grupo_L},\n",
        "    \"XL\": {\"rango\": rango_XL, \"cantidad\": grupo_XL}\n",
        "}\n",
        "\n",
        "\n",
        "\n",
        "\n",
        "# Crear una nueva columna en el dataframe para las etiquetas de los grupos\n",
        "df_tabla_unida['group'] = pd.cut(df_tabla_unida['consumption'],\n",
        "                                 bins=[Y.min(), quantiles[0.25], quantiles[0.5], quantiles[0.75], Y.max()],\n",
        "                                 labels=['S', 'M', 'L', 'XL'])\n",
        "\n",
        "# Crear el histograma de la agrupación\n",
        "plt.figure(figsize=(4, 3))\n",
        "df_tabla_unida['group'].value_counts().sort_index().plot(kind='bar', color='skyblue', edgecolor='black')\n",
        "plt.title('Histograma de la agrupación en S, M, L, XL')\n",
        "plt.xlabel('Grupos')\n",
        "plt.ylabel('Cantidad de Datos')\n",
        "plt.grid(axis='y', linestyle='--', alpha=0.7)\n",
        "plt.show()\n"
      ],
      "metadata": {
        "colab": {
          "base_uri": "https://localhost:8080/",
          "height": 337
        },
        "id": "N9FzEt4m7JcV",
        "outputId": "43d98bdc-5682-4cf7-e268-2b767d1f589a"
      },
      "execution_count": null,
      "outputs": [
        {
          "output_type": "display_data",
          "data": {
            "text/plain": [
              "<Figure size 400x300 with 1 Axes>"
            ],
            "image/png": "[encoded data removed]"
          },
          "metadata": {}
        }
      ]
    },
    {
      "cell_type": "markdown",
      "source": [
        "Ahora aplicamos este criterio para crear una Y_modificada"
      ],
      "metadata": {
        "id": "t85K57WG7ey0"
      }
    },
    {
      "cell_type": "code",
      "source": [
        "# Crear la variable Y_modificada asignando letras según las reglas de los grupos\n",
        "Y_modificada = pd.cut(Y,\n",
        "                      bins=[Y.min(), quantiles[0.25], quantiles[0.5], quantiles[0.75], Y.max()],\n",
        "                      labels=['S', 'M', 'L', 'XL'])\n",
        "\n",
        "# Mostrar las primeras filas de Y_modificada para verificar\n",
        "print(Y_modificada.head())\n"
      ],
      "metadata": {
        "colab": {
          "base_uri": "https://localhost:8080/"
        },
        "id": "Pt8e7YmW7il7",
        "outputId": "d3326240-6b70-4ee6-9207-9c609e89ab9c"
      },
      "execution_count": null,
      "outputs": [
        {
          "output_type": "stream",
          "name": "stdout",
          "text": [
            "0     S\n",
            "1     S\n",
            "2     L\n",
            "3    XL\n",
            "4    XL\n",
            "Name: consumption, dtype: category\n",
            "Categories (4, object): ['S' < 'M' < 'L' < 'XL']\n"
          ]
        }
      ]
    },
    {
      "cell_type": "markdown",
      "source": [
        "#Modelo 2: (Victor)"
      ],
      "metadata": {
        "id": "qyyAK1Q_2DpD"
      }
    },
    {
      "cell_type": "markdown",
      "source": [
        "#Modelo 3: (Nathalia)"
      ],
      "metadata": {
        "id": "NKzLDqHb2GWL"
      }
    }
  ]
}