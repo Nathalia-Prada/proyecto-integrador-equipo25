{
  "nbformat": 4,
  "nbformat_minor": 0,
  "metadata": {
    "colab": {
      "provenance": [],
      "gpuType": "T4",
      "toc_visible": true
    },
    "kernelspec": {
      "name": "python3",
      "display_name": "Python 3"
    },
    "language_info": {
      "name": "python"
    },
    "accelerator": "GPU"
  },
  "cells": [
    {
      "cell_type": "markdown",
      "source": [
        "# **Avance 4. Modelos alternativos**\n",
        "\n",
        "Objetivos:\n",
        "\n",
        "- 3.3 Explorar una gama diversa de técnicas y enfoques con el fin de identificar el de mejor desempeño en el conjunto de datos en cuestión.\n",
        "\n",
        "- 3.4 Encontrar la configuración óptima que maximiza el rendimiento del modelo en una tarea específica.\n",
        "\n",
        "\n",
        "###**Equipo 25**\n",
        "\n",
        "\n",
        "### Estudiantes\n",
        "\n",
        "\n",
        "* A01793899 - Andrés Julián López Hurtado\n",
        "* A01793999 - Nathalia Milena Prada Hernández\n",
        "* A01794404 - Victor Alejandro Regueira Romero\n",
        "\n",
        "Fecha: 20 de octubre de 2024"
      ],
      "metadata": {
        "id": "mBv9LJaf1ums"
      }
    },
    {
      "cell_type": "markdown",
      "source": [
        "# Instrucciones"
      ],
      "metadata": {
        "id": "FyiXV4_q1bxJ"
      }
    },
    {
      "cell_type": "markdown",
      "source": [
        "Este avance implica construir múltiples modelos (individuales, no ensambles) relevantes para resolver el problema y evaluar su desempeño. Diferentes algoritmos pueden comportarse de manera óptima en diferentes tipos de datos o tareas. La construcción de modelos alternativos permite explorar y evaluar cuál de ellos proporciona el mejor rendimiento para un problema particular.\n",
        "\n",
        "Además, los modelos se pueden ajustar para determinar si se puede mejorar su rendimiento. Diferentes configuraciones de hiperparámetros pueden afectar significativamente el rendimiento de un modelo. Construir modelos alternativos implica explorar y ajustar estos hiperparámetros para encontrar la configuración óptima.\n",
        "\n",
        "Las siguientes son acciones que deberás abordar en este avance:\n",
        "\n",
        "- Construir al menos 6 modelos diferentes (individuales, no ensambles), utilizando algoritmos variados.\n",
        "- Comparar el rendimiento de los modelos obtenidos.\n",
        "- Seleccionar los dos modelos que proporcionen el mejor rendimiento.\n",
        "- Ajustar los dos mejores modelos.\n",
        "- Elegir el modelo individual final."
      ],
      "metadata": {
        "id": "HBhUtfbh1iOi"
      }
    },
    {
      "cell_type": "markdown",
      "source": [
        "# Importar Drive"
      ],
      "metadata": {
        "id": "efPQHOt_QbFk"
      }
    },
    {
      "cell_type": "code",
      "source": [
        "from google.colab import drive\n",
        "drive.mount('/content/drive')"
      ],
      "metadata": {
        "colab": {
          "base_uri": "https://localhost:8080/"
        },
        "id": "vtiY61NoQiFy",
        "outputId": "68345bd6-bed6-48cc-b4d6-ece1e2abcc3c"
      },
      "execution_count": 238,
      "outputs": [
        {
          "output_type": "stream",
          "name": "stdout",
          "text": [
            "Drive already mounted at /content/drive; to attempt to forcibly remount, call drive.mount(\"/content/drive\", force_remount=True).\n"
          ]
        }
      ]
    },
    {
      "cell_type": "markdown",
      "source": [
        "# Librerías"
      ],
      "metadata": {
        "id": "AigHMm1WSkBG"
      }
    },
    {
      "cell_type": "code",
      "source": [
        "#Importando las librerías que necesitamos\n",
        "\n",
        "import numpy as np\n",
        "import pandas as pd\n",
        "import matplotlib.pyplot as plt\n",
        "import pydotplus\n",
        "import seaborn as sns   # para un mejor despliegue de los gráficos\n",
        "\n",
        "#Esta libraría la vamos a usar para hacer la división de datos en datos de entrenamiento y en datos de prueba.\n",
        "from sklearn.model_selection import train_test_split\n",
        "\n",
        "#Las siguientes librerías las vamos a usar para crear el pipeline.\n",
        "from sklearn.pipeline import Pipeline #Esta para armar el pipeline\n",
        "from sklearn.impute import SimpleImputer #Esta es para simple imputer, sirve para tratamiento de valores nan (missing values)\n",
        "from sklearn.preprocessing import MinMaxScaler, OneHotEncoder, StandardScaler #Esta para hacer el escalado (numércias), onehotencoder (categóricas)\n",
        "from sklearn.preprocessing import FunctionTransformer #Para variables cuantitativas. La uso en el Pipeline\n",
        "from sklearn.utils import class_weight\n",
        "from sklearn.compose import ColumnTransformer #Esta es ya para armar todo el arreglo con las imputaciones, transformaciones y demás del preprocesamiento.\n",
        "\n",
        "#Las siguientes librerías son los modelos que vamos a entrenar y el método de validación cruzada k-fold\n",
        "from sklearn.linear_model import LogisticRegression\n",
        "from sklearn.tree import DecisionTreeClassifier\n",
        "from sklearn.ensemble import RandomForestClassifier\n",
        "from sklearn.neighbors import KNeighborsClassifier\n",
        "from xgboost import XGBClassifier  # Import the XGBoost classifier\n",
        "from sklearn import tree  # para el grafico de arbol de decision\n",
        "from IPython.display import Image\n",
        "\n",
        "from sklearn.model_selection import RepeatedStratifiedKFold #Método de validación cruzada k-fold\n",
        "from sklearn.model_selection import cross_validate #Esta función me permite pegar todo lo que se crea: el pipeline, los modelos a entrenar y\n",
        "                                                    #las métricas que he creado para medición del desempeño.\n",
        "\n",
        "from sklearn.model_selection import cross_val_score\n",
        "\n",
        "\n",
        "from sklearn.metrics import classification_report, make_scorer #El método maske_scorer me va a permitir crear un diccionario para juntar todas las\n",
        "                                                               #métricas de desempeño que se van a definir\n",
        "from sklearn.metrics import confusion_matrix\n",
        "\n",
        "from sklearn.model_selection import learning_curve, validation_curve #Para calcular las curvas de entrenamiento.\n",
        "from sklearn.model_selection import GridSearchCV #Para calcular el mejor conjunto de hiperparámetros"
      ],
      "metadata": {
        "id": "sLhKSMr_dtvv"
      },
      "execution_count": 239,
      "outputs": []
    },
    {
      "cell_type": "markdown",
      "source": [
        "# Rutas de archivos y carga de la base"
      ],
      "metadata": {
        "id": "BEzln5FiQ23T"
      }
    },
    {
      "cell_type": "code",
      "source": [
        "#file_tabla_unida = '/content/drive/MyDrive/TECForza/df_union2.csv'\n",
        "file_tabla_unida = '/content/drive/MyDrive/0-Actual/MNA/proyecto_integrador/df_union2.csv'"
      ],
      "metadata": {
        "id": "53B6FXRcRJ-l"
      },
      "execution_count": 240,
      "outputs": []
    },
    {
      "cell_type": "code",
      "source": [
        "df_tabla_unida = pd.read_csv(file_tabla_unida)\n",
        "df_tabla_unida.head()"
      ],
      "metadata": {
        "id": "SC_DgPn7EmQJ",
        "colab": {
          "base_uri": "https://localhost:8080/",
          "height": 342
        },
        "outputId": "c71794c8-41d6-4942-c311-ba1fee3f21e8"
      },
      "execution_count": 241,
      "outputs": [
        {
          "output_type": "execute_result",
          "data": {
            "text/plain": [
              "   name        date  total_distance_used_sum  total_fuel_used_sum  \\\n",
              "0   986  2024-07-01               115.575006            15.321976   \n",
              "1  1038  2024-07-01               167.770170            25.096340   \n",
              "2   502  2024-07-02              1025.262150            68.948892   \n",
              "3   532  2024-07-02              1103.554896            75.817364   \n",
              "4   880  2024-07-02               857.491980            64.193796   \n",
              "\n",
              "   consumption  performance    distance idlingDuration  idlingPercent  \\\n",
              "0     7.543088     0.132572   30.063228       08:12:02           87.0   \n",
              "1     6.685045     0.149588   72.647624       06:53:43           62.0   \n",
              "2     8.653096     0.067250  912.121800       11:00:31           46.0   \n",
              "3    14.555437     0.068703  554.235964       01:34:01           14.0   \n",
              "4    13.357864     0.074862  429.840038       20:46:51           73.0   \n",
              "\n",
              "   idlingDuration_hours  ...  ExcessiveSpeedingCount  \\\n",
              "0                  8.20  ...                   159.0   \n",
              "1                  6.90  ...                    19.0   \n",
              "2                 11.01  ...                   105.5   \n",
              "3                  1.57  ...                     3.5   \n",
              "4                 20.78  ...                   402.0   \n",
              "\n",
              "   ExcessiveSpeedingDistance  HardAccelerationCount  HardAccelerationDistance  \\\n",
              "0                  50.848373                  133.0                  0.057267   \n",
              "1                   2.382248                   17.0                  0.002865   \n",
              "2                  38.452164                   48.0                  0.020623   \n",
              "3                   0.055369                   77.5                  0.065764   \n",
              "4                 123.554245                   59.0                  0.020675   \n",
              "\n",
              "   HarshBrakingCount  HarshBrakingDistance  HarshCorneringDuration  \\\n",
              "0                1.0              0.000096                     0.0   \n",
              "1                0.0              0.000000                     0.0   \n",
              "2                0.5              0.000332                     0.0   \n",
              "3                0.0              0.000000                     0.0   \n",
              "4                0.0              0.000000                     0.0   \n",
              "\n",
              "   HarshCorneringCount  HarshCorneringDistance   MaxSpeed  \n",
              "0                 43.0                0.006195  83.885109  \n",
              "1                 28.0                0.002594  76.428658  \n",
              "2                 39.5                0.009367  42.874611  \n",
              "3                 18.5                0.007460  38.835701  \n",
              "4                 37.0                0.020335  83.885109  \n",
              "\n",
              "[5 rows x 42 columns]"
            ],
            "text/html": [
              "\n",
              "  <div id=\"df-d19fd568-68a9-421a-9725-ab4c70fdaaea\" class=\"colab-df-container\">\n",
              "    <div>\n",
              "<style scoped>\n",
              "    .dataframe tbody tr th:only-of-type {\n",
              "        vertical-align: middle;\n",
              "    }\n",
              "\n",
              "    .dataframe tbody tr th {\n",
              "        vertical-align: top;\n",
              "    }\n",
              "\n",
              "    .dataframe thead th {\n",
              "        text-align: right;\n",
              "    }\n",
              "</style>\n",
              "<table border=\"1\" class=\"dataframe\">\n",
              "  <thead>\n",
              "    <tr style=\"text-align: right;\">\n",
              "      <th></th>\n",
              "      <th>name</th>\n",
              "      <th>date</th>\n",
              "      <th>total_distance_used_sum</th>\n",
              "      <th>total_fuel_used_sum</th>\n",
              "      <th>consumption</th>\n",
              "      <th>performance</th>\n",
              "      <th>distance</th>\n",
              "      <th>idlingDuration</th>\n",
              "      <th>idlingPercent</th>\n",
              "      <th>idlingDuration_hours</th>\n",
              "      <th>...</th>\n",
              "      <th>ExcessiveSpeedingCount</th>\n",
              "      <th>ExcessiveSpeedingDistance</th>\n",
              "      <th>HardAccelerationCount</th>\n",
              "      <th>HardAccelerationDistance</th>\n",
              "      <th>HarshBrakingCount</th>\n",
              "      <th>HarshBrakingDistance</th>\n",
              "      <th>HarshCorneringDuration</th>\n",
              "      <th>HarshCorneringCount</th>\n",
              "      <th>HarshCorneringDistance</th>\n",
              "      <th>MaxSpeed</th>\n",
              "    </tr>\n",
              "  </thead>\n",
              "  <tbody>\n",
              "    <tr>\n",
              "      <th>0</th>\n",
              "      <td>986</td>\n",
              "      <td>2024-07-01</td>\n",
              "      <td>115.575006</td>\n",
              "      <td>15.321976</td>\n",
              "      <td>7.543088</td>\n",
              "      <td>0.132572</td>\n",
              "      <td>30.063228</td>\n",
              "      <td>08:12:02</td>\n",
              "      <td>87.0</td>\n",
              "      <td>8.20</td>\n",
              "      <td>...</td>\n",
              "      <td>159.0</td>\n",
              "      <td>50.848373</td>\n",
              "      <td>133.0</td>\n",
              "      <td>0.057267</td>\n",
              "      <td>1.0</td>\n",
              "      <td>0.000096</td>\n",
              "      <td>0.0</td>\n",
              "      <td>43.0</td>\n",
              "      <td>0.006195</td>\n",
              "      <td>83.885109</td>\n",
              "    </tr>\n",
              "    <tr>\n",
              "      <th>1</th>\n",
              "      <td>1038</td>\n",
              "      <td>2024-07-01</td>\n",
              "      <td>167.770170</td>\n",
              "      <td>25.096340</td>\n",
              "      <td>6.685045</td>\n",
              "      <td>0.149588</td>\n",
              "      <td>72.647624</td>\n",
              "      <td>06:53:43</td>\n",
              "      <td>62.0</td>\n",
              "      <td>6.90</td>\n",
              "      <td>...</td>\n",
              "      <td>19.0</td>\n",
              "      <td>2.382248</td>\n",
              "      <td>17.0</td>\n",
              "      <td>0.002865</td>\n",
              "      <td>0.0</td>\n",
              "      <td>0.000000</td>\n",
              "      <td>0.0</td>\n",
              "      <td>28.0</td>\n",
              "      <td>0.002594</td>\n",
              "      <td>76.428658</td>\n",
              "    </tr>\n",
              "    <tr>\n",
              "      <th>2</th>\n",
              "      <td>502</td>\n",
              "      <td>2024-07-02</td>\n",
              "      <td>1025.262150</td>\n",
              "      <td>68.948892</td>\n",
              "      <td>8.653096</td>\n",
              "      <td>0.067250</td>\n",
              "      <td>912.121800</td>\n",
              "      <td>11:00:31</td>\n",
              "      <td>46.0</td>\n",
              "      <td>11.01</td>\n",
              "      <td>...</td>\n",
              "      <td>105.5</td>\n",
              "      <td>38.452164</td>\n",
              "      <td>48.0</td>\n",
              "      <td>0.020623</td>\n",
              "      <td>0.5</td>\n",
              "      <td>0.000332</td>\n",
              "      <td>0.0</td>\n",
              "      <td>39.5</td>\n",
              "      <td>0.009367</td>\n",
              "      <td>42.874611</td>\n",
              "    </tr>\n",
              "    <tr>\n",
              "      <th>3</th>\n",
              "      <td>532</td>\n",
              "      <td>2024-07-02</td>\n",
              "      <td>1103.554896</td>\n",
              "      <td>75.817364</td>\n",
              "      <td>14.555437</td>\n",
              "      <td>0.068703</td>\n",
              "      <td>554.235964</td>\n",
              "      <td>01:34:01</td>\n",
              "      <td>14.0</td>\n",
              "      <td>1.57</td>\n",
              "      <td>...</td>\n",
              "      <td>3.5</td>\n",
              "      <td>0.055369</td>\n",
              "      <td>77.5</td>\n",
              "      <td>0.065764</td>\n",
              "      <td>0.0</td>\n",
              "      <td>0.000000</td>\n",
              "      <td>0.0</td>\n",
              "      <td>18.5</td>\n",
              "      <td>0.007460</td>\n",
              "      <td>38.835701</td>\n",
              "    </tr>\n",
              "    <tr>\n",
              "      <th>4</th>\n",
              "      <td>880</td>\n",
              "      <td>2024-07-02</td>\n",
              "      <td>857.491980</td>\n",
              "      <td>64.193796</td>\n",
              "      <td>13.357864</td>\n",
              "      <td>0.074862</td>\n",
              "      <td>429.840038</td>\n",
              "      <td>20:46:51</td>\n",
              "      <td>73.0</td>\n",
              "      <td>20.78</td>\n",
              "      <td>...</td>\n",
              "      <td>402.0</td>\n",
              "      <td>123.554245</td>\n",
              "      <td>59.0</td>\n",
              "      <td>0.020675</td>\n",
              "      <td>0.0</td>\n",
              "      <td>0.000000</td>\n",
              "      <td>0.0</td>\n",
              "      <td>37.0</td>\n",
              "      <td>0.020335</td>\n",
              "      <td>83.885109</td>\n",
              "    </tr>\n",
              "  </tbody>\n",
              "</table>\n",
              "<p>5 rows × 42 columns</p>\n",
              "</div>\n",
              "    <div class=\"colab-df-buttons\">\n",
              "\n",
              "  <div class=\"colab-df-container\">\n",
              "    <button class=\"colab-df-convert\" onclick=\"convertToInteractive('df-d19fd568-68a9-421a-9725-ab4c70fdaaea')\"\n",
              "            title=\"Convert this dataframe to an interactive table.\"\n",
              "            style=\"display:none;\">\n",
              "\n",
              "  <svg xmlns=\"http://www.w3.org/2000/svg\" height=\"24px\" viewBox=\"0 -960 960 960\">\n",
              "    <path d=\"M120-120v-720h720v720H120Zm60-500h600v-160H180v160Zm220 220h160v-160H400v160Zm0 220h160v-160H400v160ZM180-400h160v-160H180v160Zm440 0h160v-160H620v160ZM180-180h160v-160H180v160Zm440 0h160v-160H620v160Z\"/>\n",
              "  </svg>\n",
              "    </button>\n",
              "\n",
              "  <style>\n",
              "    .colab-df-container {\n",
              "      display:flex;\n",
              "      gap: 12px;\n",
              "    }\n",
              "\n",
              "    .colab-df-convert {\n",
              "      background-color: #E8F0FE;\n",
              "      border: none;\n",
              "      border-radius: 50%;\n",
              "      cursor: pointer;\n",
              "      display: none;\n",
              "      fill: #1967D2;\n",
              "      height: 32px;\n",
              "      padding: 0 0 0 0;\n",
              "      width: 32px;\n",
              "    }\n",
              "\n",
              "    .colab-df-convert:hover {\n",
              "      background-color: #E2EBFA;\n",
              "      box-shadow: 0px 1px 2px rgba(60, 64, 67, 0.3), 0px 1px 3px 1px rgba(60, 64, 67, 0.15);\n",
              "      fill: #174EA6;\n",
              "    }\n",
              "\n",
              "    .colab-df-buttons div {\n",
              "      margin-bottom: 4px;\n",
              "    }\n",
              "\n",
              "    [theme=dark] .colab-df-convert {\n",
              "      background-color: #3B4455;\n",
              "      fill: #D2E3FC;\n",
              "    }\n",
              "\n",
              "    [theme=dark] .colab-df-convert:hover {\n",
              "      background-color: #434B5C;\n",
              "      box-shadow: 0px 1px 3px 1px rgba(0, 0, 0, 0.15);\n",
              "      filter: drop-shadow(0px 1px 2px rgba(0, 0, 0, 0.3));\n",
              "      fill: #FFFFFF;\n",
              "    }\n",
              "  </style>\n",
              "\n",
              "    <script>\n",
              "      const buttonEl =\n",
              "        document.querySelector('#df-d19fd568-68a9-421a-9725-ab4c70fdaaea button.colab-df-convert');\n",
              "      buttonEl.style.display =\n",
              "        google.colab.kernel.accessAllowed ? 'block' : 'none';\n",
              "\n",
              "      async function convertToInteractive(key) {\n",
              "        const element = document.querySelector('#df-d19fd568-68a9-421a-9725-ab4c70fdaaea');\n",
              "        const dataTable =\n",
              "          await google.colab.kernel.invokeFunction('convertToInteractive',\n",
              "                                                    [key], {});\n",
              "        if (!dataTable) return;\n",
              "\n",
              "        const docLinkHtml = 'Like what you see? Visit the ' +\n",
              "          '<a target=\"_blank\" href=https://colab.research.google.com/notebooks/data_table.ipynb>data table notebook</a>'\n",
              "          + ' to learn more about interactive tables.';\n",
              "        element.innerHTML = '';\n",
              "        dataTable['output_type'] = 'display_data';\n",
              "        await google.colab.output.renderOutput(dataTable, element);\n",
              "        const docLink = document.createElement('div');\n",
              "        docLink.innerHTML = docLinkHtml;\n",
              "        element.appendChild(docLink);\n",
              "      }\n",
              "    </script>\n",
              "  </div>\n",
              "\n",
              "\n",
              "<div id=\"df-f27b88c6-1d28-485b-9fe4-7a2d16dc1cba\">\n",
              "  <button class=\"colab-df-quickchart\" onclick=\"quickchart('df-f27b88c6-1d28-485b-9fe4-7a2d16dc1cba')\"\n",
              "            title=\"Suggest charts\"\n",
              "            style=\"display:none;\">\n",
              "\n",
              "<svg xmlns=\"http://www.w3.org/2000/svg\" height=\"24px\"viewBox=\"0 0 24 24\"\n",
              "     width=\"24px\">\n",
              "    <g>\n",
              "        <path d=\"M19 3H5c-1.1 0-2 .9-2 2v14c0 1.1.9 2 2 2h14c1.1 0 2-.9 2-2V5c0-1.1-.9-2-2-2zM9 17H7v-7h2v7zm4 0h-2V7h2v10zm4 0h-2v-4h2v4z\"/>\n",
              "    </g>\n",
              "</svg>\n",
              "  </button>\n",
              "\n",
              "<style>\n",
              "  .colab-df-quickchart {\n",
              "      --bg-color: #E8F0FE;\n",
              "      --fill-color: #1967D2;\n",
              "      --hover-bg-color: #E2EBFA;\n",
              "      --hover-fill-color: #174EA6;\n",
              "      --disabled-fill-color: #AAA;\n",
              "      --disabled-bg-color: #DDD;\n",
              "  }\n",
              "\n",
              "  [theme=dark] .colab-df-quickchart {\n",
              "      --bg-color: #3B4455;\n",
              "      --fill-color: #D2E3FC;\n",
              "      --hover-bg-color: #434B5C;\n",
              "      --hover-fill-color: #FFFFFF;\n",
              "      --disabled-bg-color: #3B4455;\n",
              "      --disabled-fill-color: #666;\n",
              "  }\n",
              "\n",
              "  .colab-df-quickchart {\n",
              "    background-color: var(--bg-color);\n",
              "    border: none;\n",
              "    border-radius: 50%;\n",
              "    cursor: pointer;\n",
              "    display: none;\n",
              "    fill: var(--fill-color);\n",
              "    height: 32px;\n",
              "    padding: 0;\n",
              "    width: 32px;\n",
              "  }\n",
              "\n",
              "  .colab-df-quickchart:hover {\n",
              "    background-color: var(--hover-bg-color);\n",
              "    box-shadow: 0 1px 2px rgba(60, 64, 67, 0.3), 0 1px 3px 1px rgba(60, 64, 67, 0.15);\n",
              "    fill: var(--button-hover-fill-color);\n",
              "  }\n",
              "\n",
              "  .colab-df-quickchart-complete:disabled,\n",
              "  .colab-df-quickchart-complete:disabled:hover {\n",
              "    background-color: var(--disabled-bg-color);\n",
              "    fill: var(--disabled-fill-color);\n",
              "    box-shadow: none;\n",
              "  }\n",
              "\n",
              "  .colab-df-spinner {\n",
              "    border: 2px solid var(--fill-color);\n",
              "    border-color: transparent;\n",
              "    border-bottom-color: var(--fill-color);\n",
              "    animation:\n",
              "      spin 1s steps(1) infinite;\n",
              "  }\n",
              "\n",
              "  @keyframes spin {\n",
              "    0% {\n",
              "      border-color: transparent;\n",
              "      border-bottom-color: var(--fill-color);\n",
              "      border-left-color: var(--fill-color);\n",
              "    }\n",
              "    20% {\n",
              "      border-color: transparent;\n",
              "      border-left-color: var(--fill-color);\n",
              "      border-top-color: var(--fill-color);\n",
              "    }\n",
              "    30% {\n",
              "      border-color: transparent;\n",
              "      border-left-color: var(--fill-color);\n",
              "      border-top-color: var(--fill-color);\n",
              "      border-right-color: var(--fill-color);\n",
              "    }\n",
              "    40% {\n",
              "      border-color: transparent;\n",
              "      border-right-color: var(--fill-color);\n",
              "      border-top-color: var(--fill-color);\n",
              "    }\n",
              "    60% {\n",
              "      border-color: transparent;\n",
              "      border-right-color: var(--fill-color);\n",
              "    }\n",
              "    80% {\n",
              "      border-color: transparent;\n",
              "      border-right-color: var(--fill-color);\n",
              "      border-bottom-color: var(--fill-color);\n",
              "    }\n",
              "    90% {\n",
              "      border-color: transparent;\n",
              "      border-bottom-color: var(--fill-color);\n",
              "    }\n",
              "  }\n",
              "</style>\n",
              "\n",
              "  <script>\n",
              "    async function quickchart(key) {\n",
              "      const quickchartButtonEl =\n",
              "        document.querySelector('#' + key + ' button');\n",
              "      quickchartButtonEl.disabled = true;  // To prevent multiple clicks.\n",
              "      quickchartButtonEl.classList.add('colab-df-spinner');\n",
              "      try {\n",
              "        const charts = await google.colab.kernel.invokeFunction(\n",
              "            'suggestCharts', [key], {});\n",
              "      } catch (error) {\n",
              "        console.error('Error during call to suggestCharts:', error);\n",
              "      }\n",
              "      quickchartButtonEl.classList.remove('colab-df-spinner');\n",
              "      quickchartButtonEl.classList.add('colab-df-quickchart-complete');\n",
              "    }\n",
              "    (() => {\n",
              "      let quickchartButtonEl =\n",
              "        document.querySelector('#df-f27b88c6-1d28-485b-9fe4-7a2d16dc1cba button');\n",
              "      quickchartButtonEl.style.display =\n",
              "        google.colab.kernel.accessAllowed ? 'block' : 'none';\n",
              "    })();\n",
              "  </script>\n",
              "</div>\n",
              "\n",
              "    </div>\n",
              "  </div>\n"
            ],
            "application/vnd.google.colaboratory.intrinsic+json": {
              "type": "dataframe",
              "variable_name": "df_tabla_unida"
            }
          },
          "metadata": {},
          "execution_count": 241
        }
      ]
    },
    {
      "cell_type": "markdown",
      "source": [
        "# Variables seleccionadas y datasets"
      ],
      "metadata": {
        "id": "1tPLFHyRv0DX"
      }
    },
    {
      "cell_type": "code",
      "source": [
        "df_tabla_unida.columns"
      ],
      "metadata": {
        "colab": {
          "base_uri": "https://localhost:8080/"
        },
        "id": "xweau3h5v4AW",
        "outputId": "b9f24cac-09b0-4e8a-bc30-883d38fb2451"
      },
      "execution_count": 242,
      "outputs": [
        {
          "output_type": "execute_result",
          "data": {
            "text/plain": [
              "Index(['name', 'date', 'total_distance_used_sum', 'total_fuel_used_sum',\n",
              "       'consumption', 'performance', 'distance', 'idlingDuration',\n",
              "       'idlingPercent', 'idlingDuration_hours', 'CurrentFuelPrice',\n",
              "       'IdlingCost', 'SpeedLimit1Count', 'SpeedLimit2Count',\n",
              "       'SpeedLimit3Count', 'TotalDrivingDuration', 'AverageSpeed',\n",
              "       'StopUnder10Count', 'StopOver10Count', 'StopOver20Count',\n",
              "       'StopOver30Count', 'StopOver40Count', 'StopOver50Count',\n",
              "       'IdlingOver5Count', 'IdlingDuration', 'AfterHoursTripCount',\n",
              "       'TotalDistance', 'TotalStopsCount', 'SpeedingDuration', 'SpeedingCount',\n",
              "       'SpeedingDistance', 'ExcessiveSpeedingDuration',\n",
              "       'ExcessiveSpeedingCount', 'ExcessiveSpeedingDistance',\n",
              "       'HardAccelerationCount', 'HardAccelerationDistance',\n",
              "       'HarshBrakingCount', 'HarshBrakingDistance', 'HarshCorneringDuration',\n",
              "       'HarshCorneringCount', 'HarshCorneringDistance', 'MaxSpeed'],\n",
              "      dtype='object')"
            ]
          },
          "metadata": {},
          "execution_count": 242
        }
      ]
    },
    {
      "cell_type": "code",
      "source": [
        "selected_columns = ['name', 'date', 'consumption', 'IdlingCost', 'SpeedingCount', 'ExcessiveSpeedingCount', 'HardAccelerationCount', 'HarshBrakingCount', 'HarshCorneringCount']\n",
        "df_selected = df_tabla_unida[selected_columns]"
      ],
      "metadata": {
        "id": "U2QQcCQlv84h"
      },
      "execution_count": 243,
      "outputs": []
    },
    {
      "cell_type": "code",
      "source": [
        "# prompt: Y\n",
        "\n",
        "# Assuming 'Y' is a DataFrame or Series containing the target variable\n",
        "Y = df_selected['consumption']"
      ],
      "metadata": {
        "id": "0sL1QIw6ya__"
      },
      "execution_count": 244,
      "outputs": []
    },
    {
      "cell_type": "markdown",
      "source": [
        "vamos a crear cuatro grupos dependiendo del valor de consumption: S, M, L y XL. Esto para poder crear una variable discreta para el árbol de decisión de tipo clasificación. Los valores umbrales se escogieron para que la cantidad de elementos en cada grupo sea aproximadamente igual y no se cree un problema de desbalaceo en los datos de Y. Los umblares son:\n",
        "\n",
        "* Grupo S: Rango (0.0392, 7.5566) - Cantidad: 10,759\n",
        "* Grupo M: Rango (7.5566, 8.5477) - Cantidad: 10,758\n",
        "* Grupo L: Rango (8.5477, 8.9567) - Cantidad: 10,759\n",
        "* Grupo XL: Rango (8.9567, 14.8651) - Cantidad: 10,757"
      ],
      "metadata": {
        "id": "5RWWR2wN6l6O"
      }
    },
    {
      "cell_type": "code",
      "source": [
        "# Dividir los datos de Y en 4 grupos de igual tamaño\n",
        "quantiles = Y.quantile([0.25, 0.5, 0.75])\n",
        "\n",
        "# Definir los rangos para cada grupo\n",
        "rango_S = (Y.min()-0.01, quantiles[0.25])\n",
        "rango_M = (quantiles[0.25], quantiles[0.5])\n",
        "rango_L = (quantiles[0.5], quantiles[0.75])\n",
        "rango_XL = (quantiles[0.75], Y.max())\n",
        "\n",
        "# Contar cuántos datos quedan en cada grupo\n",
        "grupo_S = Y[(Y >= rango_S[0]) & (Y <= rango_S[1])].count()\n",
        "grupo_M = Y[(Y > rango_M[0]) & (Y <= rango_M[1])].count()\n",
        "grupo_L = Y[(Y > rango_L[0]) & (Y <= rango_L[1])].count()\n",
        "grupo_XL = Y[(Y > rango_XL[0]) & (Y <= rango_XL[1])].count()\n",
        "\n",
        "# Mostrar los resultados\n",
        "rangos = {\n",
        "    \"S\": {\"rango\": rango_S, \"cantidad\": grupo_S},\n",
        "    \"M\": {\"rango\": rango_M, \"cantidad\": grupo_M},\n",
        "    \"L\": {\"rango\": rango_L, \"cantidad\": grupo_L},\n",
        "    \"XL\": {\"rango\": rango_XL, \"cantidad\": grupo_XL}\n",
        "}\n",
        "\n",
        "\n",
        "\n",
        "# Crear la variable Y_modificada asignando letras según las reglas de los grupos\n",
        "Y_modificada = pd.cut(Y,\n",
        "                      bins=[Y.min()-0.01, quantiles[0.25], quantiles[0.5], quantiles[0.75], Y.max()],\n",
        "                      labels=['S', 'M', 'L', 'XL'])\n",
        "\n",
        "# Mostrar las primeras filas de Y_modificada para verificar\n",
        "print(Y_modificada.head())\n",
        "\n",
        "\n"
      ],
      "metadata": {
        "colab": {
          "base_uri": "https://localhost:8080/"
        },
        "id": "D5av9GELxcrv",
        "outputId": "a8022eef-dc57-4885-ffd1-7852d7ca5708"
      },
      "execution_count": 245,
      "outputs": [
        {
          "output_type": "stream",
          "name": "stdout",
          "text": [
            "0     S\n",
            "1     S\n",
            "2     L\n",
            "3    XL\n",
            "4    XL\n",
            "Name: consumption, dtype: category\n",
            "Categories (4, object): ['S' < 'M' < 'L' < 'XL']\n"
          ]
        }
      ]
    },
    {
      "cell_type": "code",
      "source": [
        "# Drop non-feature columns\n",
        "features = df_selected.drop(columns=['name', 'date', 'consumption'])\n",
        "features_v2 = df_tabla_unida[['total_distance_used_sum', 'total_fuel_used_sum',\n",
        "       'CurrentFuelPrice']]\n",
        "target = Y_modificada"
      ],
      "metadata": {
        "id": "9NI07FQdwgIc"
      },
      "execution_count": 246,
      "outputs": []
    },
    {
      "cell_type": "code",
      "source": [
        "target.value_counts()"
      ],
      "metadata": {
        "colab": {
          "base_uri": "https://localhost:8080/",
          "height": 240
        },
        "id": "Y-XPxrUOyuyV",
        "outputId": "128cfd5e-4749-49f7-b9d2-d5b359d59850"
      },
      "execution_count": 247,
      "outputs": [
        {
          "output_type": "execute_result",
          "data": {
            "text/plain": [
              "consumption\n",
              "S     10759\n",
              "L     10759\n",
              "M     10758\n",
              "XL    10757\n",
              "Name: count, dtype: int64"
            ],
            "text/html": [
              "<div>\n",
              "<style scoped>\n",
              "    .dataframe tbody tr th:only-of-type {\n",
              "        vertical-align: middle;\n",
              "    }\n",
              "\n",
              "    .dataframe tbody tr th {\n",
              "        vertical-align: top;\n",
              "    }\n",
              "\n",
              "    .dataframe thead th {\n",
              "        text-align: right;\n",
              "    }\n",
              "</style>\n",
              "<table border=\"1\" class=\"dataframe\">\n",
              "  <thead>\n",
              "    <tr style=\"text-align: right;\">\n",
              "      <th></th>\n",
              "      <th>count</th>\n",
              "    </tr>\n",
              "    <tr>\n",
              "      <th>consumption</th>\n",
              "      <th></th>\n",
              "    </tr>\n",
              "  </thead>\n",
              "  <tbody>\n",
              "    <tr>\n",
              "      <th>S</th>\n",
              "      <td>10759</td>\n",
              "    </tr>\n",
              "    <tr>\n",
              "      <th>L</th>\n",
              "      <td>10759</td>\n",
              "    </tr>\n",
              "    <tr>\n",
              "      <th>M</th>\n",
              "      <td>10758</td>\n",
              "    </tr>\n",
              "    <tr>\n",
              "      <th>XL</th>\n",
              "      <td>10757</td>\n",
              "    </tr>\n",
              "  </tbody>\n",
              "</table>\n",
              "</div><br><label><b>dtype:</b> int64</label>"
            ]
          },
          "metadata": {},
          "execution_count": 247
        }
      ]
    },
    {
      "cell_type": "code",
      "source": [
        "# Crear un grid de 1 fila y 2 columnas para los histogramas de Y y Y_modificada\n",
        "fig, axes = plt.subplots(1, 2, figsize=(12, 6))\n",
        "\n",
        "# Histograma de Y (variable original)\n",
        "axes[0].hist(Y, bins=20, edgecolor='black')\n",
        "axes[0].set_title('Histograma de Y (Original)')\n",
        "axes[0].set_xlabel('Consumo')\n",
        "axes[0].set_ylabel('Frecuencia')\n",
        "\n",
        "# Histograma de Y_modificada (variable categorizada)\n",
        "target.value_counts().sort_index().plot(kind='bar', ax=axes[1], edgecolor='black')\n",
        "axes[1].set_title('Histograma de Y_modificada')\n",
        "axes[1].set_xlabel('Grupo')\n",
        "axes[1].set_ylabel('Frecuencia')"
      ],
      "metadata": {
        "colab": {
          "base_uri": "https://localhost:8080/",
          "height": 584
        },
        "id": "86cf7sy24iNi",
        "outputId": "d4e815ff-adb5-41cb-cefc-430cd759392b"
      },
      "execution_count": 248,
      "outputs": [
        {
          "output_type": "execute_result",
          "data": {
            "text/plain": [
              "Text(0, 0.5, 'Frecuencia')"
            ]
          },
          "metadata": {},
          "execution_count": 248
        },
        {
          "output_type": "display_data",
          "data": {
            "text/plain": [
              "<Figure size 1200x600 with 2 Axes>"
            ],
            "image/png": "[encoded data removed]"
          },
          "metadata": {}
        }
      ]
    },
    {
      "cell_type": "code",
      "source": [
        "features.columns"
      ],
      "metadata": {
        "colab": {
          "base_uri": "https://localhost:8080/"
        },
        "id": "wY-04eFDzqEp",
        "outputId": "114fbee9-6935-478f-b8d6-fbf36da16dc4"
      },
      "execution_count": 249,
      "outputs": [
        {
          "output_type": "execute_result",
          "data": {
            "text/plain": [
              "Index(['IdlingCost', 'SpeedingCount', 'ExcessiveSpeedingCount',\n",
              "       'HardAccelerationCount', 'HarshBrakingCount', 'HarshCorneringCount'],\n",
              "      dtype='object')"
            ]
          },
          "metadata": {},
          "execution_count": 249
        }
      ]
    },
    {
      "cell_type": "code",
      "source": [
        "features_v2.columns"
      ],
      "metadata": {
        "colab": {
          "base_uri": "https://localhost:8080/"
        },
        "id": "k4otAhvmztc-",
        "outputId": "0f624490-7f7a-4270-8c51-9dff7f106352"
      },
      "execution_count": 250,
      "outputs": [
        {
          "output_type": "execute_result",
          "data": {
            "text/plain": [
              "Index(['total_distance_used_sum', 'total_fuel_used_sum', 'CurrentFuelPrice'], dtype='object')"
            ]
          },
          "metadata": {},
          "execution_count": 250
        }
      ]
    },
    {
      "cell_type": "markdown",
      "source": [
        "#Moldelo: Predicción de clases basadas en el consumo"
      ],
      "metadata": {
        "id": "VbpS_7qg1x9f"
      }
    },
    {
      "cell_type": "markdown",
      "source": [
        "Aplicamos los cuantiles para crear una Y_modificada\n"
      ],
      "metadata": {
        "id": "sl2W3ETb7BZL"
      }
    },
    {
      "cell_type": "markdown",
      "source": [
        "El histograma de Y_modificada y Y quedaría así:"
      ],
      "metadata": {
        "id": "9pp-2QJ536MM"
      }
    },
    {
      "cell_type": "markdown",
      "source": [
        "Para mode"
      ],
      "metadata": {
        "id": "gdO-dZWi9AnG"
      }
    },
    {
      "cell_type": "markdown",
      "source": [
        "## Obtención de los conjuntos de validación y prueba\n",
        "\n",
        "A continuación vamos a obtener los datos de validación y prueba. Vamos a pasar los datos de X_train, y posteriormente los de X_test, por un pipeline que prepare los datos de X así:\n",
        "1. Un escalado de los datos\n",
        "2. Aplicación de una transformación raíz cúbica para garantizar que los datos tengan una distribución más o menos uniforme."
      ],
      "metadata": {
        "id": "5eOgn2APdOVi"
      }
    },
    {
      "cell_type": "code",
      "source": [
        "# We split the data features and target, train 50%, validation 20% and test 30%\n",
        "\n",
        "X_train_val, X_test, y_train_val, y_test = train_test_split(features, target, test_size=0.3, random_state=42)\n",
        "X_train, X_val, y_train, y_val = train_test_split(X_train_val, y_train_val, test_size=0.2857, random_state=42) # 0.2857 * 0.7 = 0.2"
      ],
      "metadata": {
        "id": "Ayv5v0Pt0jKp"
      },
      "execution_count": 251,
      "outputs": []
    },
    {
      "cell_type": "code",
      "source": [
        "features.shape"
      ],
      "metadata": {
        "colab": {
          "base_uri": "https://localhost:8080/"
        },
        "id": "8DrNNPm61NOw",
        "outputId": "45023e18-7cbf-493a-d050-a028a2799a3b"
      },
      "execution_count": 252,
      "outputs": [
        {
          "output_type": "execute_result",
          "data": {
            "text/plain": [
              "(43033, 6)"
            ]
          },
          "metadata": {},
          "execution_count": 252
        }
      ]
    },
    {
      "cell_type": "code",
      "source": [
        "# prompt: print the shape of all the train, validate and test data\n",
        "\n",
        "print(\"Shape of X_train:\", X_train.shape)\n",
        "print(\"Shape of y_train:\", y_train.shape)\n",
        "print(\"Shape of X_val:\", X_val.shape)\n",
        "print(\"Shape of y_val:\", y_val.shape)\n",
        "print(\"Shape of X_test:\", X_test.shape)\n",
        "print(\"Shape of y_test:\", y_test.shape)"
      ],
      "metadata": {
        "colab": {
          "base_uri": "https://localhost:8080/"
        },
        "id": "ApxqiZhp1EdC",
        "outputId": "d52b8d73-ef5a-460b-af91-aca630815c05"
      },
      "execution_count": 253,
      "outputs": [
        {
          "output_type": "stream",
          "name": "stdout",
          "text": [
            "Shape of X_train: (21516, 6)\n",
            "Shape of y_train: (21516,)\n",
            "Shape of X_val: (8607, 6)\n",
            "Shape of y_val: (8607,)\n",
            "Shape of X_test: (12910, 6)\n",
            "Shape of y_test: (12910,)\n"
          ]
        }
      ]
    },
    {
      "cell_type": "code",
      "source": [
        "\n",
        "X_train_new, X_test_new, y_train_new, y_test_new = train_test_split(\n",
        "    features_v2, target, test_size=0.3, random_state=42\n",
        ")\n",
        "\n",
        "print(\"Shape of X_train_new:\", X_train_new.shape)\n",
        "print(\"Shape of y_train_new:\", y_train_new.shape)\n",
        "print(\"Shape of X_test_new:\", X_test_new.shape)\n",
        "print(\"Shape of y_test_new:\", y_test_new.shape)"
      ],
      "metadata": {
        "colab": {
          "base_uri": "https://localhost:8080/"
        },
        "id": "FmaZf9h3G0Zt",
        "outputId": "cf802fb7-424a-4c8f-dc0f-9eb086088ff0"
      },
      "execution_count": 254,
      "outputs": [
        {
          "output_type": "stream",
          "name": "stdout",
          "text": [
            "Shape of X_train_new: (30123, 3)\n",
            "Shape of y_train_new: (30123,)\n",
            "Shape of X_test_new: (12910, 3)\n",
            "Shape of y_test_new: (12910,)\n"
          ]
        }
      ]
    },
    {
      "cell_type": "markdown",
      "source": [
        "## Pipeline"
      ],
      "metadata": {
        "id": "BTewcCKV2utr"
      }
    },
    {
      "cell_type": "code",
      "source": [
        "X_train_new.columns"
      ],
      "metadata": {
        "colab": {
          "base_uri": "https://localhost:8080/"
        },
        "id": "oC40Ra3LAbzG",
        "outputId": "c197398c-33e4-484d-80df-f3b67d7f6039"
      },
      "execution_count": 255,
      "outputs": [
        {
          "output_type": "execute_result",
          "data": {
            "text/plain": [
              "Index(['total_distance_used_sum', 'total_fuel_used_sum', 'CurrentFuelPrice'], dtype='object')"
            ]
          },
          "metadata": {},
          "execution_count": 255
        }
      ]
    },
    {
      "cell_type": "code",
      "source": [
        "from sklearn.preprocessing import FunctionTransformer\n",
        "\n",
        "# Define the cubic root transformation function\n",
        "def cubic_root_transform(X):\n",
        "  return np.cbrt(X)\n",
        "\n",
        "# Create a pipeline for numerical features\n",
        "numerical_features = ['total_distance_used_sum', 'total_fuel_used_sum',\n",
        "       'CurrentFuelPrice']\n",
        "numerical_pipeline = Pipeline([\n",
        "    ('scaler', MinMaxScaler()),\n",
        "    ('cubic_root', FunctionTransformer(cubic_root_transform)),\n",
        "])\n",
        "\n",
        "# Create a ColumnTransformer to apply the pipeline to numerical features\n",
        "preprocessor = ColumnTransformer([\n",
        "    ('numerical', numerical_pipeline, numerical_features),\n",
        "])"
      ],
      "metadata": {
        "id": "SpWICass1lF2"
      },
      "execution_count": 256,
      "outputs": []
    },
    {
      "cell_type": "code",
      "source": [
        "preprocessor"
      ],
      "metadata": {
        "colab": {
          "base_uri": "https://localhost:8080/",
          "height": 173
        },
        "id": "66dfb5vo2BGP",
        "outputId": "fbb47b2c-d76f-4311-c2a5-617e574bf8a9"
      },
      "execution_count": 257,
      "outputs": [
        {
          "output_type": "execute_result",
          "data": {
            "text/plain": [
              "ColumnTransformer(transformers=[('numerical',\n",
              "                                 Pipeline(steps=[('scaler', MinMaxScaler()),\n",
              "                                                 ('cubic_root',\n",
              "                                                  FunctionTransformer(func=<function cubic_root_transform at 0x7985f1aae170>))]),\n",
              "                                 ['total_distance_used_sum',\n",
              "                                  'total_fuel_used_sum', 'CurrentFuelPrice'])])"
            ],
            "text/html": [
              "<style>#sk-container-id-11 {\n",
              "  /* Definition of color scheme common for light and dark mode */\n",
              "  --sklearn-color-text: black;\n",
              "  --sklearn-color-line: gray;\n",
              "  /* Definition of color scheme for unfitted estimators */\n",
              "  --sklearn-color-unfitted-level-0: #fff5e6;\n",
              "  --sklearn-color-unfitted-level-1: #f6e4d2;\n",
              "  --sklearn-color-unfitted-level-2: #ffe0b3;\n",
              "  --sklearn-color-unfitted-level-3: chocolate;\n",
              "  /* Definition of color scheme for fitted estimators */\n",
              "  --sklearn-color-fitted-level-0: #f0f8ff;\n",
              "  --sklearn-color-fitted-level-1: #d4ebff;\n",
              "  --sklearn-color-fitted-level-2: #b3dbfd;\n",
              "  --sklearn-color-fitted-level-3: cornflowerblue;\n",
              "\n",
              "  /* Specific color for light theme */\n",
              "  --sklearn-color-text-on-default-background: var(--sg-text-color, var(--theme-code-foreground, var(--jp-content-font-color1, black)));\n",
              "  --sklearn-color-background: var(--sg-background-color, var(--theme-background, var(--jp-layout-color0, white)));\n",
              "  --sklearn-color-border-box: var(--sg-text-color, var(--theme-code-foreground, var(--jp-content-font-color1, black)));\n",
              "  --sklearn-color-icon: #696969;\n",
              "\n",
              "  @media (prefers-color-scheme: dark) {\n",
              "    /* Redefinition of color scheme for dark theme */\n",
              "    --sklearn-color-text-on-default-background: var(--sg-text-color, var(--theme-code-foreground, var(--jp-content-font-color1, white)));\n",
              "    --sklearn-color-background: var(--sg-background-color, var(--theme-background, var(--jp-layout-color0, #111)));\n",
              "    --sklearn-color-border-box: var(--sg-text-color, var(--theme-code-foreground, var(--jp-content-font-color1, white)));\n",
              "    --sklearn-color-icon: #878787;\n",
              "  }\n",
              "}\n",
              "\n",
              "#sk-container-id-11 {\n",
              "  color: var(--sklearn-color-text);\n",
              "}\n",
              "\n",
              "#sk-container-id-11 pre {\n",
              "  padding: 0;\n",
              "}\n",
              "\n",
              "#sk-container-id-11 input.sk-hidden--visually {\n",
              "  border: 0;\n",
              "  clip: rect(1px 1px 1px 1px);\n",
              "  clip: rect(1px, 1px, 1px, 1px);\n",
              "  height: 1px;\n",
              "  margin: -1px;\n",
              "  overflow: hidden;\n",
              "  padding: 0;\n",
              "  position: absolute;\n",
              "  width: 1px;\n",
              "}\n",
              "\n",
              "#sk-container-id-11 div.sk-dashed-wrapped {\n",
              "  border: 1px dashed var(--sklearn-color-line);\n",
              "  margin: 0 0.4em 0.5em 0.4em;\n",
              "  box-sizing: border-box;\n",
              "  padding-bottom: 0.4em;\n",
              "  background-color: var(--sklearn-color-background);\n",
              "}\n",
              "\n",
              "#sk-container-id-11 div.sk-container {\n",
              "  /* jupyter's `normalize.less` sets `[hidden] { display: none; }`\n",
              "     but bootstrap.min.css set `[hidden] { display: none !important; }`\n",
              "     so we also need the `!important` here to be able to override the\n",
              "     default hidden behavior on the sphinx rendered scikit-learn.org.\n",
              "     See: https://github.com/scikit-learn/scikit-learn/issues/21755 */\n",
              "  display: inline-block !important;\n",
              "  position: relative;\n",
              "}\n",
              "\n",
              "#sk-container-id-11 div.sk-text-repr-fallback {\n",
              "  display: none;\n",
              "}\n",
              "\n",
              "div.sk-parallel-item,\n",
              "div.sk-serial,\n",
              "div.sk-item {\n",
              "  /* draw centered vertical line to link estimators */\n",
              "  background-image: linear-gradient(var(--sklearn-color-text-on-default-background), var(--sklearn-color-text-on-default-background));\n",
              "  background-size: 2px 100%;\n",
              "  background-repeat: no-repeat;\n",
              "  background-position: center center;\n",
              "}\n",
              "\n",
              "/* Parallel-specific style estimator block */\n",
              "\n",
              "#sk-container-id-11 div.sk-parallel-item::after {\n",
              "  content: \"\";\n",
              "  width: 100%;\n",
              "  border-bottom: 2px solid var(--sklearn-color-text-on-default-background);\n",
              "  flex-grow: 1;\n",
              "}\n",
              "\n",
              "#sk-container-id-11 div.sk-parallel {\n",
              "  display: flex;\n",
              "  align-items: stretch;\n",
              "  justify-content: center;\n",
              "  background-color: var(--sklearn-color-background);\n",
              "  position: relative;\n",
              "}\n",
              "\n",
              "#sk-container-id-11 div.sk-parallel-item {\n",
              "  display: flex;\n",
              "  flex-direction: column;\n",
              "}\n",
              "\n",
              "#sk-container-id-11 div.sk-parallel-item:first-child::after {\n",
              "  align-self: flex-end;\n",
              "  width: 50%;\n",
              "}\n",
              "\n",
              "#sk-container-id-11 div.sk-parallel-item:last-child::after {\n",
              "  align-self: flex-start;\n",
              "  width: 50%;\n",
              "}\n",
              "\n",
              "#sk-container-id-11 div.sk-parallel-item:only-child::after {\n",
              "  width: 0;\n",
              "}\n",
              "\n",
              "/* Serial-specific style estimator block */\n",
              "\n",
              "#sk-container-id-11 div.sk-serial {\n",
              "  display: flex;\n",
              "  flex-direction: column;\n",
              "  align-items: center;\n",
              "  background-color: var(--sklearn-color-background);\n",
              "  padding-right: 1em;\n",
              "  padding-left: 1em;\n",
              "}\n",
              "\n",
              "\n",
              "/* Toggleable style: style used for estimator/Pipeline/ColumnTransformer box that is\n",
              "clickable and can be expanded/collapsed.\n",
              "- Pipeline and ColumnTransformer use this feature and define the default style\n",
              "- Estimators will overwrite some part of the style using the `sk-estimator` class\n",
              "*/\n",
              "\n",
              "/* Pipeline and ColumnTransformer style (default) */\n",
              "\n",
              "#sk-container-id-11 div.sk-toggleable {\n",
              "  /* Default theme specific background. It is overwritten whether we have a\n",
              "  specific estimator or a Pipeline/ColumnTransformer */\n",
              "  background-color: var(--sklearn-color-background);\n",
              "}\n",
              "\n",
              "/* Toggleable label */\n",
              "#sk-container-id-11 label.sk-toggleable__label {\n",
              "  cursor: pointer;\n",
              "  display: block;\n",
              "  width: 100%;\n",
              "  margin-bottom: 0;\n",
              "  padding: 0.5em;\n",
              "  box-sizing: border-box;\n",
              "  text-align: center;\n",
              "}\n",
              "\n",
              "#sk-container-id-11 label.sk-toggleable__label-arrow:before {\n",
              "  /* Arrow on the left of the label */\n",
              "  content: \"▸\";\n",
              "  float: left;\n",
              "  margin-right: 0.25em;\n",
              "  color: var(--sklearn-color-icon);\n",
              "}\n",
              "\n",
              "#sk-container-id-11 label.sk-toggleable__label-arrow:hover:before {\n",
              "  color: var(--sklearn-color-text);\n",
              "}\n",
              "\n",
              "/* Toggleable content - dropdown */\n",
              "\n",
              "#sk-container-id-11 div.sk-toggleable__content {\n",
              "  max-height: 0;\n",
              "  max-width: 0;\n",
              "  overflow: hidden;\n",
              "  text-align: left;\n",
              "  /* unfitted */\n",
              "  background-color: var(--sklearn-color-unfitted-level-0);\n",
              "}\n",
              "\n",
              "#sk-container-id-11 div.sk-toggleable__content.fitted {\n",
              "  /* fitted */\n",
              "  background-color: var(--sklearn-color-fitted-level-0);\n",
              "}\n",
              "\n",
              "#sk-container-id-11 div.sk-toggleable__content pre {\n",
              "  margin: 0.2em;\n",
              "  border-radius: 0.25em;\n",
              "  color: var(--sklearn-color-text);\n",
              "  /* unfitted */\n",
              "  background-color: var(--sklearn-color-unfitted-level-0);\n",
              "}\n",
              "\n",
              "#sk-container-id-11 div.sk-toggleable__content.fitted pre {\n",
              "  /* unfitted */\n",
              "  background-color: var(--sklearn-color-fitted-level-0);\n",
              "}\n",
              "\n",
              "#sk-container-id-11 input.sk-toggleable__control:checked~div.sk-toggleable__content {\n",
              "  /* Expand drop-down */\n",
              "  max-height: 200px;\n",
              "  max-width: 100%;\n",
              "  overflow: auto;\n",
              "}\n",
              "\n",
              "#sk-container-id-11 input.sk-toggleable__control:checked~label.sk-toggleable__label-arrow:before {\n",
              "  content: \"▾\";\n",
              "}\n",
              "\n",
              "/* Pipeline/ColumnTransformer-specific style */\n",
              "\n",
              "#sk-container-id-11 div.sk-label input.sk-toggleable__control:checked~label.sk-toggleable__label {\n",
              "  color: var(--sklearn-color-text);\n",
              "  background-color: var(--sklearn-color-unfitted-level-2);\n",
              "}\n",
              "\n",
              "#sk-container-id-11 div.sk-label.fitted input.sk-toggleable__control:checked~label.sk-toggleable__label {\n",
              "  background-color: var(--sklearn-color-fitted-level-2);\n",
              "}\n",
              "\n",
              "/* Estimator-specific style */\n",
              "\n",
              "/* Colorize estimator box */\n",
              "#sk-container-id-11 div.sk-estimator input.sk-toggleable__control:checked~label.sk-toggleable__label {\n",
              "  /* unfitted */\n",
              "  background-color: var(--sklearn-color-unfitted-level-2);\n",
              "}\n",
              "\n",
              "#sk-container-id-11 div.sk-estimator.fitted input.sk-toggleable__control:checked~label.sk-toggleable__label {\n",
              "  /* fitted */\n",
              "  background-color: var(--sklearn-color-fitted-level-2);\n",
              "}\n",
              "\n",
              "#sk-container-id-11 div.sk-label label.sk-toggleable__label,\n",
              "#sk-container-id-11 div.sk-label label {\n",
              "  /* The background is the default theme color */\n",
              "  color: var(--sklearn-color-text-on-default-background);\n",
              "}\n",
              "\n",
              "/* On hover, darken the color of the background */\n",
              "#sk-container-id-11 div.sk-label:hover label.sk-toggleable__label {\n",
              "  color: var(--sklearn-color-text);\n",
              "  background-color: var(--sklearn-color-unfitted-level-2);\n",
              "}\n",
              "\n",
              "/* Label box, darken color on hover, fitted */\n",
              "#sk-container-id-11 div.sk-label.fitted:hover label.sk-toggleable__label.fitted {\n",
              "  color: var(--sklearn-color-text);\n",
              "  background-color: var(--sklearn-color-fitted-level-2);\n",
              "}\n",
              "\n",
              "/* Estimator label */\n",
              "\n",
              "#sk-container-id-11 div.sk-label label {\n",
              "  font-family: monospace;\n",
              "  font-weight: bold;\n",
              "  display: inline-block;\n",
              "  line-height: 1.2em;\n",
              "}\n",
              "\n",
              "#sk-container-id-11 div.sk-label-container {\n",
              "  text-align: center;\n",
              "}\n",
              "\n",
              "/* Estimator-specific */\n",
              "#sk-container-id-11 div.sk-estimator {\n",
              "  font-family: monospace;\n",
              "  border: 1px dotted var(--sklearn-color-border-box);\n",
              "  border-radius: 0.25em;\n",
              "  box-sizing: border-box;\n",
              "  margin-bottom: 0.5em;\n",
              "  /* unfitted */\n",
              "  background-color: var(--sklearn-color-unfitted-level-0);\n",
              "}\n",
              "\n",
              "#sk-container-id-11 div.sk-estimator.fitted {\n",
              "  /* fitted */\n",
              "  background-color: var(--sklearn-color-fitted-level-0);\n",
              "}\n",
              "\n",
              "/* on hover */\n",
              "#sk-container-id-11 div.sk-estimator:hover {\n",
              "  /* unfitted */\n",
              "  background-color: var(--sklearn-color-unfitted-level-2);\n",
              "}\n",
              "\n",
              "#sk-container-id-11 div.sk-estimator.fitted:hover {\n",
              "  /* fitted */\n",
              "  background-color: var(--sklearn-color-fitted-level-2);\n",
              "}\n",
              "\n",
              "/* Specification for estimator info (e.g. \"i\" and \"?\") */\n",
              "\n",
              "/* Common style for \"i\" and \"?\" */\n",
              "\n",
              ".sk-estimator-doc-link,\n",
              "a:link.sk-estimator-doc-link,\n",
              "a:visited.sk-estimator-doc-link {\n",
              "  float: right;\n",
              "  font-size: smaller;\n",
              "  line-height: 1em;\n",
              "  font-family: monospace;\n",
              "  background-color: var(--sklearn-color-background);\n",
              "  border-radius: 1em;\n",
              "  height: 1em;\n",
              "  width: 1em;\n",
              "  text-decoration: none !important;\n",
              "  margin-left: 1ex;\n",
              "  /* unfitted */\n",
              "  border: var(--sklearn-color-unfitted-level-1) 1pt solid;\n",
              "  color: var(--sklearn-color-unfitted-level-1);\n",
              "}\n",
              "\n",
              ".sk-estimator-doc-link.fitted,\n",
              "a:link.sk-estimator-doc-link.fitted,\n",
              "a:visited.sk-estimator-doc-link.fitted {\n",
              "  /* fitted */\n",
              "  border: var(--sklearn-color-fitted-level-1) 1pt solid;\n",
              "  color: var(--sklearn-color-fitted-level-1);\n",
              "}\n",
              "\n",
              "/* On hover */\n",
              "div.sk-estimator:hover .sk-estimator-doc-link:hover,\n",
              ".sk-estimator-doc-link:hover,\n",
              "div.sk-label-container:hover .sk-estimator-doc-link:hover,\n",
              ".sk-estimator-doc-link:hover {\n",
              "  /* unfitted */\n",
              "  background-color: var(--sklearn-color-unfitted-level-3);\n",
              "  color: var(--sklearn-color-background);\n",
              "  text-decoration: none;\n",
              "}\n",
              "\n",
              "div.sk-estimator.fitted:hover .sk-estimator-doc-link.fitted:hover,\n",
              ".sk-estimator-doc-link.fitted:hover,\n",
              "div.sk-label-container:hover .sk-estimator-doc-link.fitted:hover,\n",
              ".sk-estimator-doc-link.fitted:hover {\n",
              "  /* fitted */\n",
              "  background-color: var(--sklearn-color-fitted-level-3);\n",
              "  color: var(--sklearn-color-background);\n",
              "  text-decoration: none;\n",
              "}\n",
              "\n",
              "/* Span, style for the box shown on hovering the info icon */\n",
              ".sk-estimator-doc-link span {\n",
              "  display: none;\n",
              "  z-index: 9999;\n",
              "  position: relative;\n",
              "  font-weight: normal;\n",
              "  right: .2ex;\n",
              "  padding: .5ex;\n",
              "  margin: .5ex;\n",
              "  width: min-content;\n",
              "  min-width: 20ex;\n",
              "  max-width: 50ex;\n",
              "  color: var(--sklearn-color-text);\n",
              "  box-shadow: 2pt 2pt 4pt #999;\n",
              "  /* unfitted */\n",
              "  background: var(--sklearn-color-unfitted-level-0);\n",
              "  border: .5pt solid var(--sklearn-color-unfitted-level-3);\n",
              "}\n",
              "\n",
              ".sk-estimator-doc-link.fitted span {\n",
              "  /* fitted */\n",
              "  background: var(--sklearn-color-fitted-level-0);\n",
              "  border: var(--sklearn-color-fitted-level-3);\n",
              "}\n",
              "\n",
              ".sk-estimator-doc-link:hover span {\n",
              "  display: block;\n",
              "}\n",
              "\n",
              "/* \"?\"-specific style due to the `<a>` HTML tag */\n",
              "\n",
              "#sk-container-id-11 a.estimator_doc_link {\n",
              "  float: right;\n",
              "  font-size: 1rem;\n",
              "  line-height: 1em;\n",
              "  font-family: monospace;\n",
              "  background-color: var(--sklearn-color-background);\n",
              "  border-radius: 1rem;\n",
              "  height: 1rem;\n",
              "  width: 1rem;\n",
              "  text-decoration: none;\n",
              "  /* unfitted */\n",
              "  color: var(--sklearn-color-unfitted-level-1);\n",
              "  border: var(--sklearn-color-unfitted-level-1) 1pt solid;\n",
              "}\n",
              "\n",
              "#sk-container-id-11 a.estimator_doc_link.fitted {\n",
              "  /* fitted */\n",
              "  border: var(--sklearn-color-fitted-level-1) 1pt solid;\n",
              "  color: var(--sklearn-color-fitted-level-1);\n",
              "}\n",
              "\n",
              "/* On hover */\n",
              "#sk-container-id-11 a.estimator_doc_link:hover {\n",
              "  /* unfitted */\n",
              "  background-color: var(--sklearn-color-unfitted-level-3);\n",
              "  color: var(--sklearn-color-background);\n",
              "  text-decoration: none;\n",
              "}\n",
              "\n",
              "#sk-container-id-11 a.estimator_doc_link.fitted:hover {\n",
              "  /* fitted */\n",
              "  background-color: var(--sklearn-color-fitted-level-3);\n",
              "}\n",
              "</style><div id=\"sk-container-id-11\" class=\"sk-top-container\"><div class=\"sk-text-repr-fallback\"><pre>ColumnTransformer(transformers=[(&#x27;numerical&#x27;,\n",
              "                                 Pipeline(steps=[(&#x27;scaler&#x27;, MinMaxScaler()),\n",
              "                                                 (&#x27;cubic_root&#x27;,\n",
              "                                                  FunctionTransformer(func=&lt;function cubic_root_transform at 0x7985f1aae170&gt;))]),\n",
              "                                 [&#x27;total_distance_used_sum&#x27;,\n",
              "                                  &#x27;total_fuel_used_sum&#x27;, &#x27;CurrentFuelPrice&#x27;])])</pre><b>In a Jupyter environment, please rerun this cell to show the HTML representation or trust the notebook. <br />On GitHub, the HTML representation is unable to render, please try loading this page with nbviewer.org.</b></div><div class=\"sk-container\" hidden><div class=\"sk-item sk-dashed-wrapped\"><div class=\"sk-label-container\"><div class=\"sk-label  sk-toggleable\"><input class=\"sk-toggleable__control sk-hidden--visually\" id=\"sk-estimator-id-41\" type=\"checkbox\" ><label for=\"sk-estimator-id-41\" class=\"sk-toggleable__label  sk-toggleable__label-arrow \">&nbsp;&nbsp;ColumnTransformer<a class=\"sk-estimator-doc-link \" rel=\"noreferrer\" target=\"_blank\" href=\"https://scikit-learn.org/1.5/modules/generated/sklearn.compose.ColumnTransformer.html\">?<span>Documentation for ColumnTransformer</span></a><span class=\"sk-estimator-doc-link \">i<span>Not fitted</span></span></label><div class=\"sk-toggleable__content \"><pre>ColumnTransformer(transformers=[(&#x27;numerical&#x27;,\n",
              "                                 Pipeline(steps=[(&#x27;scaler&#x27;, MinMaxScaler()),\n",
              "                                                 (&#x27;cubic_root&#x27;,\n",
              "                                                  FunctionTransformer(func=&lt;function cubic_root_transform at 0x7985f1aae170&gt;))]),\n",
              "                                 [&#x27;total_distance_used_sum&#x27;,\n",
              "                                  &#x27;total_fuel_used_sum&#x27;, &#x27;CurrentFuelPrice&#x27;])])</pre></div> </div></div><div class=\"sk-parallel\"><div class=\"sk-parallel-item\"><div class=\"sk-item\"><div class=\"sk-label-container\"><div class=\"sk-label  sk-toggleable\"><input class=\"sk-toggleable__control sk-hidden--visually\" id=\"sk-estimator-id-42\" type=\"checkbox\" ><label for=\"sk-estimator-id-42\" class=\"sk-toggleable__label  sk-toggleable__label-arrow \">numerical</label><div class=\"sk-toggleable__content \"><pre>[&#x27;total_distance_used_sum&#x27;, &#x27;total_fuel_used_sum&#x27;, &#x27;CurrentFuelPrice&#x27;]</pre></div> </div></div><div class=\"sk-serial\"><div class=\"sk-item\"><div class=\"sk-serial\"><div class=\"sk-item\"><div class=\"sk-estimator  sk-toggleable\"><input class=\"sk-toggleable__control sk-hidden--visually\" id=\"sk-estimator-id-43\" type=\"checkbox\" ><label for=\"sk-estimator-id-43\" class=\"sk-toggleable__label  sk-toggleable__label-arrow \">&nbsp;MinMaxScaler<a class=\"sk-estimator-doc-link \" rel=\"noreferrer\" target=\"_blank\" href=\"https://scikit-learn.org/1.5/modules/generated/sklearn.preprocessing.MinMaxScaler.html\">?<span>Documentation for MinMaxScaler</span></a></label><div class=\"sk-toggleable__content \"><pre>MinMaxScaler()</pre></div> </div></div><div class=\"sk-item\"><div class=\"sk-estimator  sk-toggleable\"><input class=\"sk-toggleable__control sk-hidden--visually\" id=\"sk-estimator-id-44\" type=\"checkbox\" ><label for=\"sk-estimator-id-44\" class=\"sk-toggleable__label  sk-toggleable__label-arrow \">&nbsp;FunctionTransformer<a class=\"sk-estimator-doc-link \" rel=\"noreferrer\" target=\"_blank\" href=\"https://scikit-learn.org/1.5/modules/generated/sklearn.preprocessing.FunctionTransformer.html\">?<span>Documentation for FunctionTransformer</span></a></label><div class=\"sk-toggleable__content \"><pre>FunctionTransformer(func=&lt;function cubic_root_transform at 0x7985f1aae170&gt;)</pre></div> </div></div></div></div></div></div></div></div></div></div></div>"
            ]
          },
          "metadata": {},
          "execution_count": 257
        }
      ]
    },
    {
      "cell_type": "code",
      "source": [
        "\n",
        "from sklearn.preprocessing import LabelEncoder\n",
        "\n",
        "le = LabelEncoder()\n",
        "\n",
        "# Fit and transform y_train\n",
        "y_train_encoded = le.fit_transform(y_train)\n",
        "\n",
        "# Transform y_val and y_test using the same encoder\n",
        "y_val_encoded = le.transform(y_val)\n",
        "y_test_encoded = le.transform(y_test)\n",
        "\n",
        "\n",
        "# Fit and transform y_train\n",
        "y_train_encoded_new = le.fit_transform(y_train_new)\n",
        "\n",
        "# Transform y_val and y_test using the same encoder\n",
        "y_val_encoded_new = le.transform(y_val_new)\n",
        "y_test_encoded_new = le.transform(y_test_new)"
      ],
      "metadata": {
        "id": "3n63luDB4xDj"
      },
      "execution_count": 258,
      "outputs": []
    },
    {
      "cell_type": "markdown",
      "source": [
        "## Modelos"
      ],
      "metadata": {
        "id": "MuYxhuu32zuy"
      }
    },
    {
      "cell_type": "code",
      "source": [
        "def get_models():\n",
        "\n",
        "    models = list()\n",
        "    names = list()\n",
        "\n",
        "    #DT - Árbol de Decisión:\n",
        "    models.append(DecisionTreeClassifier())\n",
        "    names.append('Decision Tree')\n",
        "\n",
        "    #RFC - KNeighbors Classifier\n",
        "    models.append(KNeighborsClassifier())\n",
        "    names.append('KNeighbors Classifier')\n",
        "\n",
        "    # XGBoost Classifier\n",
        "    models.append(XGBClassifier())\n",
        "    names.append('XGBoost Classifier')\n",
        "\n",
        "    return models, names"
      ],
      "metadata": {
        "id": "91k24eidc8U9"
      },
      "execution_count": 259,
      "outputs": []
    },
    {
      "cell_type": "markdown",
      "source": [
        "Definición de las métricas"
      ],
      "metadata": {
        "id": "TbZb11_rdLhz"
      }
    },
    {
      "cell_type": "code",
      "source": [
        "from sklearn.metrics import accuracy_score, precision_score, recall_score, f1_score, confusion_matrix\n",
        "\n",
        "def mi_accuracy(y_real, y_pred):\n",
        "    return accuracy_score(y_real, y_pred)\n",
        "\n",
        "def mi_precision(y_real, y_pred):\n",
        "    return precision_score(y_real, y_pred, average='weighted')  # 'weighted' maneja clases desbalanceadas\n",
        "\n",
        "def mi_recall(y_real, y_pred):\n",
        "    return recall_score(y_real, y_pred, average='weighted')\n",
        "\n",
        "def mi_f1_score(y_real, y_pred):\n",
        "    return f1_score(y_real, y_pred, average='weighted')\n",
        "\n",
        "def mi_G_mean(y_real, y_pred):\n",
        "    conf_matrix = confusion_matrix(y_real, y_pred)\n",
        "    true_positive_rates = np.diag(conf_matrix) / np.sum(conf_matrix, axis=1)\n",
        "    g_mean = np.sqrt(np.prod(true_positive_rates))\n",
        "    return g_mean\n"
      ],
      "metadata": {
        "id": "BwqHrV7FdKwG"
      },
      "execution_count": 260,
      "outputs": []
    },
    {
      "cell_type": "markdown",
      "source": [
        "## Métricas de los modelos"
      ],
      "metadata": {
        "id": "K2MWoloiFeS-"
      }
    },
    {
      "cell_type": "code",
      "source": [
        "models, names = get_models()\n",
        "scores = list()\n",
        "\n",
        "for i in range(len(models)):\n",
        "\n",
        "    pipeline = Pipeline(steps=[('ct', preprocessor),('m',models[i])])\n",
        "    cv = RepeatedStratifiedKFold(n_splits=5, n_repeats=3, random_state=8)\n",
        "    mis_metricas = {\n",
        "        \"Accuracy\": make_scorer(mi_accuracy),\n",
        "        \"Precision\": make_scorer(mi_precision),\n",
        "        \"Recall\": make_scorer(mi_recall),\n",
        "        \"F1_score\": make_scorer(mi_f1_score),\n",
        "        \"G_mean\": make_scorer(mi_G_mean)\n",
        "        }\n",
        "\n",
        "    scores_temp = cross_validate(pipeline, X_train_new, y_train_encoded_new, scoring= mis_metricas, cv=cv)\n",
        "    scores.append(scores_temp)\n",
        "\n",
        "    print('%s:\\nmean Accuracy: %.3f (%.4f)\\nmean Precision: %.3f (%.4f)\\nmean Recall: %.3f (%.4f)\\nmean F1score: %.3f (%.4f)\\nGmean: %.3f (%.4f)\\n' % (names[i],\n",
        "                                                                          np.mean(scores_temp['test_Accuracy']),\n",
        "                                                                          np.std(scores_temp['test_Accuracy']),\n",
        "                                                                          np.mean(scores_temp['test_Precision']),\n",
        "                                                                          np.std(scores_temp['test_Precision']),\n",
        "                                                                          np.mean(scores_temp['test_Recall']),\n",
        "                                                                          np.std(scores_temp['test_Recall']),\n",
        "                                                                          np.mean(scores_temp['test_F1_score']),\n",
        "                                                                          np.std(scores_temp['test_F1_score']),\n",
        "                                                                          np.mean(scores_temp['test_G_mean']),\n",
        "                                                                          np.std(scores_temp['test_G_mean'])\n",
        "                                                                          ))"
      ],
      "metadata": {
        "colab": {
          "base_uri": "https://localhost:8080/"
        },
        "id": "Y_HIP0KSlZZV",
        "outputId": "b689193e-cca8-4968-c582-a1af79d201e0"
      },
      "execution_count": 261,
      "outputs": [
        {
          "output_type": "stream",
          "name": "stdout",
          "text": [
            "Decision Tree:\n",
            "mean Accuracy: 0.953 (0.0031)\n",
            "mean Precision: 0.953 (0.0031)\n",
            "mean Recall: 0.953 (0.0031)\n",
            "mean F1score: 0.953 (0.0031)\n",
            "Gmean: 0.908 (0.0059)\n",
            "\n",
            "KNeighbors Classifier:\n",
            "mean Accuracy: 0.954 (0.0028)\n",
            "mean Precision: 0.954 (0.0027)\n",
            "mean Recall: 0.954 (0.0028)\n",
            "mean F1score: 0.954 (0.0027)\n",
            "Gmean: 0.910 (0.0052)\n",
            "\n",
            "XGBoost Classifier:\n",
            "mean Accuracy: 0.953 (0.0027)\n",
            "mean Precision: 0.953 (0.0027)\n",
            "mean Recall: 0.953 (0.0027)\n",
            "mean F1score: 0.953 (0.0027)\n",
            "Gmean: 0.908 (0.0051)\n",
            "\n"
          ]
        }
      ]
    },
    {
      "cell_type": "markdown",
      "source": [
        "## Curvas de aprendizaje"
      ],
      "metadata": {
        "id": "L5QrINFNFi_i"
      }
    },
    {
      "cell_type": "markdown",
      "source": [
        "Curvas de aprendizaje para el árbol de decisión."
      ],
      "metadata": {
        "id": "Y-qb4IUdCjVu"
      }
    },
    {
      "cell_type": "code",
      "source": [
        "def mi_LearningCurvePlot(train_sizes, train_scores, val_scores, nombre_score):\n",
        "\n",
        "    train_mean = np.mean(train_scores, axis=1)\n",
        "    train_std = np.std(train_scores, axis=1)\n",
        "    val_mean = np.mean(val_scores, axis=1)\n",
        "    val_std = np.std(val_scores, axis=1)\n",
        "\n",
        "    plt.figure(figsize=(7,6))\n",
        "    plt.plot(train_sizes, train_mean, color='blue', marker='o', markersize=5, label='Training')\n",
        "    plt.fill_between(train_sizes, train_mean + train_std, train_mean - train_std, alpha=0.1, color='blue')\n",
        "\n",
        "    plt.plot(train_sizes, val_mean, color='red', marker='+', markersize=5, linestyle='--', label='Validation')\n",
        "    plt.fill_between(train_sizes, val_mean + val_std, val_mean - val_std, alpha=0.1, color='red')\n",
        "\n",
        "    plt.title('Curvas de Aprendizaje incrementando el tamaño de la muestra')\n",
        "    plt.xlabel('Tamaño del conjunto de entrenamiento')\n",
        "    plt.ylabel(nombre_score)\n",
        "    plt.grid()\n",
        "    plt.legend(loc='lower left')\n",
        "    plt.show()"
      ],
      "metadata": {
        "id": "POs5G6yiC9Yn"
      },
      "execution_count": 262,
      "outputs": []
    },
    {
      "cell_type": "code",
      "source": [
        "\n",
        "def mi_ModeloYCurvas_arbol(Xin, md):\n",
        "    modelo = DecisionTreeClassifier(max_depth=md)\n",
        "\n",
        "    mi_pipe = Pipeline(steps=[('ct', preprocessor), ('modelo', modelo)])\n",
        "\n",
        "    mi_kfold = RepeatedStratifiedKFold(n_splits=5, n_repeats=3, random_state=7)\n",
        "\n",
        "    mis_metricas_2 = make_scorer(mi_f1_score)\n",
        "\n",
        "    delta_train_sz = np.linspace(0.1, 1.0, 20)\n",
        "\n",
        "    tr_sizes, tr_scores, val_scores = learning_curve(estimator=mi_pipe,\n",
        "                                                        X=Xin,\n",
        "                                                        y=y_train_encoded_new,\n",
        "                                                        cv=mi_kfold,\n",
        "                                                        train_sizes=delta_train_sz,\n",
        "                                                        scoring=mis_metricas_2,\n",
        "                                                        random_state=11)\n",
        "\n",
        "    mi_LearningCurvePlot(tr_sizes, tr_scores, val_scores, \"F1 Score\")\n",
        "\n",
        "    # Fit the pipeline to get feature importances\n",
        "    mi_pipe.fit(Xin, y_train_encoded_new)\n",
        "\n",
        "    # Get feature importances from the XGBoost model\n",
        "    if hasattr(mi_pipe['modelo'], 'feature_importances_'):\n",
        "        feature_importances = mi_pipe['modelo'].feature_importances_\n",
        "\n",
        "        # Print feature importances along with the corresponding column names\n",
        "        for i, importance in enumerate(feature_importances):\n",
        "            print(f\"Feature {numerical_features[i]}: {importance}\")  # Assuming numerical_features is defined earlier"
      ],
      "metadata": {
        "id": "d4KCR2_-GEvg"
      },
      "execution_count": 265,
      "outputs": []
    },
    {
      "cell_type": "code",
      "source": [
        "mi_ModeloYCurvas_arbol(X_train_new, 5)"
      ],
      "metadata": {
        "colab": {
          "base_uri": "https://localhost:8080/",
          "height": 616
        },
        "id": "Zj4JFd6ZFGdR",
        "outputId": "6a4560c4-1ae0-498c-fc0c-dded6df22416"
      },
      "execution_count": 267,
      "outputs": [
        {
          "output_type": "display_data",
          "data": {
            "text/plain": [
              "<Figure size 700x600 with 1 Axes>"
            ],
            "image/png": "[encoded data removed]"
          },
          "metadata": {}
        },
        {
          "output_type": "stream",
          "name": "stdout",
          "text": [
            "Feature total_distance_used_sum: 0.6039575138388302\n",
            "Feature total_fuel_used_sum: 0.2483713080970609\n",
            "Feature CurrentFuelPrice: 0.14767117806410882\n"
          ]
        }
      ]
    },
    {
      "cell_type": "markdown",
      "source": [
        "## Mejores parámetros"
      ],
      "metadata": {
        "id": "Q7fh82juK3GU"
      }
    },
    {
      "cell_type": "code",
      "source": [
        "from sklearn.model_selection import GridSearchCV\n",
        "\n",
        "# Define the parameter grid for XGBoost\n",
        "param_grid = {\n",
        "    'm__learning_rate': [0.01, 0.1, 0.2],\n",
        "    'm__max_depth': [3, 5, 7],\n",
        "    'm__n_estimators': [50, 100, 200],\n",
        "    'm__subsample': [0.8, 1.0],\n",
        "    'm__colsample_bytree': [0.8, 1.0],\n",
        "}\n",
        "\n",
        "# Create a pipeline with XGBoost\n",
        "pipeline = Pipeline(steps=[('ct', preprocessor), ('m', XGBClassifier())])\n",
        "\n",
        "# Create a GridSearchCV object\n",
        "grid_search = GridSearchCV(estimator=pipeline, param_grid=param_grid, cv=5, scoring='accuracy', n_jobs=-1)\n",
        "\n",
        "# Fit the GridSearchCV to the training data\n",
        "grid_search.fit(X_train_new, y_train_encoded_new)\n",
        "\n",
        "# Print the best parameters and score\n",
        "print(\"Best parameters found: \", grid_search.best_params_)\n",
        "print(\"Best score found: \", grid_search.best_score_)\n",
        "\n",
        "# You can access the best estimator directly:\n",
        "best_xgboost = grid_search.best_estimator_"
      ],
      "metadata": {
        "colab": {
          "base_uri": "https://localhost:8080/"
        },
        "id": "AC90cut1QMD6",
        "outputId": "b610a943-c78f-4032-f82b-af6c45b95362"
      },
      "execution_count": 275,
      "outputs": [
        {
          "output_type": "stream",
          "name": "stdout",
          "text": [
            "Best parameters found:  {'m__colsample_bytree': 1.0, 'm__learning_rate': 0.2, 'm__max_depth': 7, 'm__n_estimators': 200, 'm__subsample': 0.8}\n",
            "Best score found:  0.9583042325855636\n"
          ]
        }
      ]
    },
    {
      "cell_type": "code",
      "source": [
        "\n",
        "def XGC_model(Xin, md):\n",
        "    modelo = XGBClassifier(max_depth=md)\n",
        "\n",
        "    mi_pipe = Pipeline(steps=[('ct', preprocessor), ('modelo', modelo)])\n",
        "\n",
        "    mi_kfold = RepeatedStratifiedKFold(n_splits=5, n_repeats=3, random_state=7)\n",
        "\n",
        "    mis_metricas_2 = make_scorer(mi_f1_score)\n",
        "\n",
        "    delta_train_sz = np.linspace(0.1, 1.0, 20)\n",
        "\n",
        "    tr_sizes, tr_scores, val_scores = learning_curve(estimator=mi_pipe,\n",
        "                                                        X=Xin,\n",
        "                                                        y=y_train_encoded_new,\n",
        "                                                        cv=mi_kfold,\n",
        "                                                        train_sizes=delta_train_sz,\n",
        "                                                        scoring=mis_metricas_2,\n",
        "                                                        random_state=11)\n",
        "\n",
        "    mi_LearningCurvePlot(tr_sizes, tr_scores, val_scores, \"F1 Score\")\n",
        "\n",
        "    # Fit the pipeline to get feature importances\n",
        "    mi_pipe.fit(Xin, y_train_encoded_new)\n",
        "\n",
        "    # Get feature importances from the XGBoost model\n",
        "    if hasattr(mi_pipe['modelo'], 'feature_importances_'):\n",
        "        feature_importances = mi_pipe['modelo'].feature_importances_\n",
        "\n",
        "        # Print feature importances along with the corresponding column names\n",
        "        for i, importance in enumerate(feature_importances):\n",
        "            print(f\"Feature {numerical_features[i]}: {importance}\")  # Assuming numerical_features is defined earlier"
      ],
      "metadata": {
        "id": "jEbC6IjnQcL7"
      },
      "execution_count": 276,
      "outputs": []
    },
    {
      "cell_type": "code",
      "source": [
        "XGC_model(X_train_new, 5)"
      ],
      "metadata": {
        "colab": {
          "base_uri": "https://localhost:8080/",
          "height": 616
        },
        "id": "Lbv0Xp81Qh2b",
        "outputId": "d8d3a439-4f94-4161-e1cb-879b1b9ef4af"
      },
      "execution_count": 279,
      "outputs": [
        {
          "output_type": "display_data",
          "data": {
            "text/plain": [
              "<Figure size 700x600 with 1 Axes>"
            ],
            "image/png": "[encoded data removed]"
          },
          "metadata": {}
        },
        {
          "output_type": "stream",
          "name": "stdout",
          "text": [
            "Feature total_distance_used_sum: 0.37074410915374756\n",
            "Feature total_fuel_used_sum: 0.3218033015727997\n",
            "Feature CurrentFuelPrice: 0.307452529668808\n"
          ]
        }
      ]
    },
    {
      "cell_type": "markdown",
      "source": [
        "# **Conclusión XGBoost**"
      ],
      "metadata": {
        "id": "Eh60MhlmUoSx"
      }
    },
    {
      "cell_type": "markdown",
      "source": [
        "- El uso del clasificador XGBoost en nuestro análisis ha demostrado ser una elección acertada para establecer un modelo base sólido. XGBoost es reconocido por su eficiencia y alto rendimiento en tareas de clasificación, especialmente cuando se trabaja con conjuntos de datos grandes y complejos.\n",
        "\n",
        "Al implementarlo como nuestro modelo baseline, hemos aprovechado varias ventajas clave:\n",
        "\n",
        "- Alto rendimiento predictivo: Gracias a su capacidad para manejar interacciones complejas entre variables y su enfoque en minimizar errores, XGBoost suele superar a otros algoritmos en precisión.\n",
        "\n",
        "- Manejo eficiente de datos faltantes: El algoritmo es robusto frente a valores faltantes, lo que reduce la necesidad de preprocesamiento intensivo y permite un flujo de trabajo más ágil.\n",
        "\n",
        "- Regularización incorporada: Incluye técnicas de regularización que previenen el sobreajuste, mejorando así la capacidad de generalización del modelo.\n",
        "\n",
        "- Velocidad y escalabilidad: Su arquitectura optimizada permite un entrenamiento rápido incluso con grandes volúmenes de datos, lo que es esencial para iterar y mejorar modelos con eficiencia.\n",
        "\n",
        "- La elección de XGBoost como modelo baseline nos proporciona una referencia sólida y confiable para comparar y evaluar futuros modelos. Esto asegura que cualquier mejora en el rendimiento se deba a avances significativos en la modelización y no a limitaciones del modelo inicial. Además, establece un estándar elevado que fomenta la búsqueda continua de soluciones innovadoras y eficaces en nuestro proyecto."
      ],
      "metadata": {
        "id": "dOwL__AOUrq_"
      }
    },
    {
      "cell_type": "code",
      "source": [],
      "metadata": {
        "id": "u0pKpSzGV9Hy"
      },
      "execution_count": null,
      "outputs": []
    }
  ]
}